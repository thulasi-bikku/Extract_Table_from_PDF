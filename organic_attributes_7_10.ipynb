{
  "nbformat": 4,
  "nbformat_minor": 0,
  "metadata": {
    "colab": {
      "name": "organic-attributes_7_10.ipynb",
      "provenance": [],
      "include_colab_link": true
    },
    "kernelspec": {
      "name": "python3",
      "display_name": "Python 3"
    },
    "language_info": {
      "name": "python"
    }
  },
  "cells": [
    {
      "cell_type": "markdown",
      "metadata": {
        "id": "view-in-github",
        "colab_type": "text"
      },
      "source": [
        "<a href=\"https://colab.research.google.com/github/thulasi-bikku/Extract_Table_from_PDF/blob/main/organic_attributes_7_10.ipynb\" target=\"_parent\"><img src=\"https://colab.research.google.com/assets/colab-badge.svg\" alt=\"Open In Colab\"/></a>"
      ]
    },
    {
      "cell_type": "code",
      "metadata": {
        "id": "MsMeaaJ-1uUI"
      },
      "source": [
        "#load the packages\n",
        "import pandas as pd\n",
        "import numpy as np\n",
        "import seaborn as sns\n",
        "import matplotlib.pyplot as plt\n",
        "from sklearn.model_selection import train_test_split\n",
        "from sklearn.preprocessing import LabelEncoder,MinMaxScaler,KBinsDiscretizer,OneHotEncoder,StandardScaler\n",
        " \n",
        "from sklearn.pipeline import Pipeline\n",
        "from sklearn.ensemble import RandomForestClassifier\n",
        " \n",
        "from sklearn.metrics import confusion_matrix,recall_score\n",
        "from sklearn.compose import ColumnTransformer\n",
        " \n",
        "from scipy import stats\n",
        " \n",
        "import warnings\n",
        "warnings.filterwarnings(\"ignore\")\n",
        "%matplotlib inline"
      ],
      "execution_count": null,
      "outputs": []
    },
    {
      "cell_type": "code",
      "metadata": {
        "colab": {
          "base_uri": "https://localhost:8080/",
          "height": 203
        },
        "id": "drFVcO2_17SA",
        "outputId": "440bbd82-fbc1-4ea1-fcf5-95d2d273ea8f"
      },
      "source": [
        "df = pd.read_excel('/content/ORGANIC.xlsx')\n",
        "df.head()"
      ],
      "execution_count": null,
      "outputs": [
        {
          "output_type": "execute_result",
          "data": {
            "text/html": [
              "<div>\n",
              "<style scoped>\n",
              "    .dataframe tbody tr th:only-of-type {\n",
              "        vertical-align: middle;\n",
              "    }\n",
              "\n",
              "    .dataframe tbody tr th {\n",
              "        vertical-align: top;\n",
              "    }\n",
              "\n",
              "    .dataframe thead th {\n",
              "        text-align: right;\n",
              "    }\n",
              "</style>\n",
              "<table border=\"1\" class=\"dataframe\">\n",
              "  <thead>\n",
              "    <tr style=\"text-align: right;\">\n",
              "      <th></th>\n",
              "      <th>shelf</th>\n",
              "      <th>book</th>\n",
              "      <th>page</th>\n",
              "      <th>λ</th>\n",
              "      <th>n</th>\n",
              "      <th>k</th>\n",
              "    </tr>\n",
              "  </thead>\n",
              "  <tbody>\n",
              "    <tr>\n",
              "      <th>0</th>\n",
              "      <td>organic</td>\n",
              "      <td>(C2ClF3)n - polychlorotrifluoroethylene</td>\n",
              "      <td>Smith</td>\n",
              "      <td>0.0900</td>\n",
              "      <td>1.196</td>\n",
              "      <td>0.6096</td>\n",
              "    </tr>\n",
              "    <tr>\n",
              "      <th>1</th>\n",
              "      <td>organic</td>\n",
              "      <td>(C2ClF3)n - polychlorotrifluoroethylene</td>\n",
              "      <td>Smith</td>\n",
              "      <td>0.0900</td>\n",
              "      <td>1.209</td>\n",
              "      <td>0.6501</td>\n",
              "    </tr>\n",
              "    <tr>\n",
              "      <th>2</th>\n",
              "      <td>organic</td>\n",
              "      <td>(C2ClF3)n - polychlorotrifluoroethylene</td>\n",
              "      <td>Smith</td>\n",
              "      <td>0.0900</td>\n",
              "      <td>1.228</td>\n",
              "      <td>0.7096</td>\n",
              "    </tr>\n",
              "    <tr>\n",
              "      <th>3</th>\n",
              "      <td>organic</td>\n",
              "      <td>(C2ClF3)n - polychlorotrifluoroethylene</td>\n",
              "      <td>Smith</td>\n",
              "      <td>0.0900</td>\n",
              "      <td>1.235</td>\n",
              "      <td>0.7315</td>\n",
              "    </tr>\n",
              "    <tr>\n",
              "      <th>4</th>\n",
              "      <td>organic</td>\n",
              "      <td>(C2ClF3)n - polychlorotrifluoroethylene</td>\n",
              "      <td>Smith</td>\n",
              "      <td>0.1012</td>\n",
              "      <td>1.417</td>\n",
              "      <td>0.4472</td>\n",
              "    </tr>\n",
              "  </tbody>\n",
              "</table>\n",
              "</div>"
            ],
            "text/plain": [
              "     shelf                                     book  ...      n       k\n",
              "0  organic  (C2ClF3)n - polychlorotrifluoroethylene  ...  1.196  0.6096\n",
              "1  organic  (C2ClF3)n - polychlorotrifluoroethylene  ...  1.209  0.6501\n",
              "2  organic  (C2ClF3)n - polychlorotrifluoroethylene  ...  1.228  0.7096\n",
              "3  organic  (C2ClF3)n - polychlorotrifluoroethylene  ...  1.235  0.7315\n",
              "4  organic  (C2ClF3)n - polychlorotrifluoroethylene  ...  1.417  0.4472\n",
              "\n",
              "[5 rows x 6 columns]"
            ]
          },
          "metadata": {
            "tags": []
          },
          "execution_count": 2
        }
      ]
    },
    {
      "cell_type": "code",
      "metadata": {
        "id": "QXWRegEW17Vs"
      },
      "source": [
        "df['k'].fillna(0,inplace=True)\n",
        "df.dropna(axis=0,inplace=True)   #drop null values from n\n",
        "df.drop(['shelf','page'],axis=1,inplace=True)"
      ],
      "execution_count": null,
      "outputs": []
    },
    {
      "cell_type": "code",
      "metadata": {
        "colab": {
          "base_uri": "https://localhost:8080/",
          "height": 203
        },
        "id": "cJAeWAoy17fk",
        "outputId": "2b7564bc-83a4-4ebd-d9b3-96e6ff892ace"
      },
      "source": [
        "df.head()"
      ],
      "execution_count": null,
      "outputs": [
        {
          "output_type": "execute_result",
          "data": {
            "text/html": [
              "<div>\n",
              "<style scoped>\n",
              "    .dataframe tbody tr th:only-of-type {\n",
              "        vertical-align: middle;\n",
              "    }\n",
              "\n",
              "    .dataframe tbody tr th {\n",
              "        vertical-align: top;\n",
              "    }\n",
              "\n",
              "    .dataframe thead th {\n",
              "        text-align: right;\n",
              "    }\n",
              "</style>\n",
              "<table border=\"1\" class=\"dataframe\">\n",
              "  <thead>\n",
              "    <tr style=\"text-align: right;\">\n",
              "      <th></th>\n",
              "      <th>book</th>\n",
              "      <th>λ</th>\n",
              "      <th>n</th>\n",
              "      <th>k</th>\n",
              "    </tr>\n",
              "  </thead>\n",
              "  <tbody>\n",
              "    <tr>\n",
              "      <th>0</th>\n",
              "      <td>(C2ClF3)n - polychlorotrifluoroethylene</td>\n",
              "      <td>0.0900</td>\n",
              "      <td>1.196</td>\n",
              "      <td>0.6096</td>\n",
              "    </tr>\n",
              "    <tr>\n",
              "      <th>1</th>\n",
              "      <td>(C2ClF3)n - polychlorotrifluoroethylene</td>\n",
              "      <td>0.0900</td>\n",
              "      <td>1.209</td>\n",
              "      <td>0.6501</td>\n",
              "    </tr>\n",
              "    <tr>\n",
              "      <th>2</th>\n",
              "      <td>(C2ClF3)n - polychlorotrifluoroethylene</td>\n",
              "      <td>0.0900</td>\n",
              "      <td>1.228</td>\n",
              "      <td>0.7096</td>\n",
              "    </tr>\n",
              "    <tr>\n",
              "      <th>3</th>\n",
              "      <td>(C2ClF3)n - polychlorotrifluoroethylene</td>\n",
              "      <td>0.0900</td>\n",
              "      <td>1.235</td>\n",
              "      <td>0.7315</td>\n",
              "    </tr>\n",
              "    <tr>\n",
              "      <th>4</th>\n",
              "      <td>(C2ClF3)n - polychlorotrifluoroethylene</td>\n",
              "      <td>0.1012</td>\n",
              "      <td>1.417</td>\n",
              "      <td>0.4472</td>\n",
              "    </tr>\n",
              "  </tbody>\n",
              "</table>\n",
              "</div>"
            ],
            "text/plain": [
              "                                      book       λ      n       k\n",
              "0  (C2ClF3)n - polychlorotrifluoroethylene  0.0900  1.196  0.6096\n",
              "1  (C2ClF3)n - polychlorotrifluoroethylene  0.0900  1.209  0.6501\n",
              "2  (C2ClF3)n - polychlorotrifluoroethylene  0.0900  1.228  0.7096\n",
              "3  (C2ClF3)n - polychlorotrifluoroethylene  0.0900  1.235  0.7315\n",
              "4  (C2ClF3)n - polychlorotrifluoroethylene  0.1012  1.417  0.4472"
            ]
          },
          "metadata": {
            "tags": []
          },
          "execution_count": 4
        }
      ]
    },
    {
      "cell_type": "code",
      "metadata": {
        "id": "FUxqvrQK17j2"
      },
      "source": [
        "df.sort_values(['book','λ']).reset_index(drop=True,inplace=True)"
      ],
      "execution_count": null,
      "outputs": []
    },
    {
      "cell_type": "code",
      "metadata": {
        "colab": {
          "base_uri": "https://localhost:8080/",
          "height": 203
        },
        "id": "yyyhGmq717nQ",
        "outputId": "65c00eef-dca3-4d73-a11b-7d0866bc7582"
      },
      "source": [
        "df.head()"
      ],
      "execution_count": null,
      "outputs": [
        {
          "output_type": "execute_result",
          "data": {
            "text/html": [
              "<div>\n",
              "<style scoped>\n",
              "    .dataframe tbody tr th:only-of-type {\n",
              "        vertical-align: middle;\n",
              "    }\n",
              "\n",
              "    .dataframe tbody tr th {\n",
              "        vertical-align: top;\n",
              "    }\n",
              "\n",
              "    .dataframe thead th {\n",
              "        text-align: right;\n",
              "    }\n",
              "</style>\n",
              "<table border=\"1\" class=\"dataframe\">\n",
              "  <thead>\n",
              "    <tr style=\"text-align: right;\">\n",
              "      <th></th>\n",
              "      <th>book</th>\n",
              "      <th>λ</th>\n",
              "      <th>n</th>\n",
              "      <th>k</th>\n",
              "    </tr>\n",
              "  </thead>\n",
              "  <tbody>\n",
              "    <tr>\n",
              "      <th>0</th>\n",
              "      <td>(C2ClF3)n - polychlorotrifluoroethylene</td>\n",
              "      <td>0.0900</td>\n",
              "      <td>1.196</td>\n",
              "      <td>0.6096</td>\n",
              "    </tr>\n",
              "    <tr>\n",
              "      <th>1</th>\n",
              "      <td>(C2ClF3)n - polychlorotrifluoroethylene</td>\n",
              "      <td>0.0900</td>\n",
              "      <td>1.209</td>\n",
              "      <td>0.6501</td>\n",
              "    </tr>\n",
              "    <tr>\n",
              "      <th>2</th>\n",
              "      <td>(C2ClF3)n - polychlorotrifluoroethylene</td>\n",
              "      <td>0.0900</td>\n",
              "      <td>1.228</td>\n",
              "      <td>0.7096</td>\n",
              "    </tr>\n",
              "    <tr>\n",
              "      <th>3</th>\n",
              "      <td>(C2ClF3)n - polychlorotrifluoroethylene</td>\n",
              "      <td>0.0900</td>\n",
              "      <td>1.235</td>\n",
              "      <td>0.7315</td>\n",
              "    </tr>\n",
              "    <tr>\n",
              "      <th>4</th>\n",
              "      <td>(C2ClF3)n - polychlorotrifluoroethylene</td>\n",
              "      <td>0.1012</td>\n",
              "      <td>1.417</td>\n",
              "      <td>0.4472</td>\n",
              "    </tr>\n",
              "  </tbody>\n",
              "</table>\n",
              "</div>"
            ],
            "text/plain": [
              "                                      book       λ      n       k\n",
              "0  (C2ClF3)n - polychlorotrifluoroethylene  0.0900  1.196  0.6096\n",
              "1  (C2ClF3)n - polychlorotrifluoroethylene  0.0900  1.209  0.6501\n",
              "2  (C2ClF3)n - polychlorotrifluoroethylene  0.0900  1.228  0.7096\n",
              "3  (C2ClF3)n - polychlorotrifluoroethylene  0.0900  1.235  0.7315\n",
              "4  (C2ClF3)n - polychlorotrifluoroethylene  0.1012  1.417  0.4472"
            ]
          },
          "metadata": {
            "tags": []
          },
          "execution_count": 6
        }
      ]
    },
    {
      "cell_type": "code",
      "metadata": {
        "colab": {
          "base_uri": "https://localhost:8080/"
        },
        "id": "7tyeuA-Z17q8",
        "outputId": "d14e29f4-4bdf-4249-fe35-093d70e98cf8"
      },
      "source": [
        "df['book'].nunique()"
      ],
      "execution_count": null,
      "outputs": [
        {
          "output_type": "execute_result",
          "data": {
            "text/plain": [
              "61"
            ]
          },
          "metadata": {
            "tags": []
          },
          "execution_count": 7
        }
      ]
    },
    {
      "cell_type": "code",
      "metadata": {
        "colab": {
          "base_uri": "https://localhost:8080/"
        },
        "id": "06HE9f0617u4",
        "outputId": "ae776384-41f1-46c6-aff5-bf7d3dfff267"
      },
      "source": [
        "print(df['book'].unique())"
      ],
      "execution_count": null,
      "outputs": [
        {
          "output_type": "stream",
          "text": [
            "['(C2ClF3)n - polychlorotrifluoroethylene' '(C6H12)n - polymethylpentene'\n",
            " 'acetic_acid' 'acetone' 'acetonitrile' 'Acetylene' 'benzene' 'bromoform'\n",
            " 'butanol' 'carbon_tetrachloride' 'cellulose' 'chloroform'\n",
            " 'cinnamaldehyde' 'Cyclohexane' 'dichloromethane' 'diethyl_phthalate'\n",
            " 'diethyl_sulfite' 'diisopropyl_methylphosphonate'\n",
            " 'diisopropylaminoethanol' 'dimethyl_methylphosphonate'\n",
            " 'dimethyl_sulfoxide' 'dioxane' 'ethane' 'ethanol' 'Ethyl acetate'\n",
            " 'ethyl_cinnamate' 'ethyl_salicylate' 'Ethylene' 'ethylene_glycol'\n",
            " 'glycerol' 'Heptane' 'Hexane' 'methane' 'Methanol' 'methyl_salicylate'\n",
            " 'nitrobenzene' 'octane' 'oxathiane' 'pentane' 'pentanediol'\n",
            " 'Pentanol, amyl alcohol' 'poly(methyl_methacrylate)'\n",
            " 'poly(N-isopropylacrylamide)' 'polycarbonate' 'polydimethylsiloxane'\n",
            " 'polyetherimide' 'polyethylene' 'polyethylene_terephthalate'\n",
            " 'polylactic_acid' 'polymethylpentene' 'polystyren' 'polyvinil_chloride'\n",
            " 'polyvinyl_alcohol' 'polyvinylpyrrolidone' 'potassium_hydrogen_phthalate'\n",
            " 'propanol' 'propylene_glycol' 'styrene' 'toluene' 'trichlorobenzene'\n",
            " 'urea']\n"
          ],
          "name": "stdout"
        }
      ]
    },
    {
      "cell_type": "code",
      "metadata": {
        "id": "e12AIzrlIQcY"
      },
      "source": [
        "\n",
        "dct = {'book':[],\n",
        "       'λ1':[],\n",
        "       'λ2' : [],\n",
        "       'n1' : [],\n",
        "       'n2' : [],\n",
        "       'k1' : [],\n",
        "       'k2' : []}\n",
        "\n",
        "grp = df.groupby('book')   #group the data by books\n",
        "grp_names = list(grp.groups.keys())\n",
        "\n",
        "for i in grp_names:\n",
        "  x = grp.get_group(i).reset_index(drop=True)\n",
        "  i = 0\n",
        "  j = 2\n",
        "\n",
        "  for d in range(x.shape[0]):\n",
        "   # print(i,j)\n",
        "    if j >= x.shape[0]:\n",
        "      break\n",
        "\n",
        "    for v in x.iloc[i:j].iteritems():\n",
        "      \n",
        "      if v[0] == 'book':\n",
        "     #  print(v[1])\n",
        "        dct['book'].append(v[1].unique()[0])\n",
        "\n",
        "      if v[0] == 'λ':\n",
        "        dct['λ1'].append(list(v[1])[0])\n",
        "        dct['λ2'].append(list(v[1])[1])\n",
        "        \n",
        "\n",
        "      if v[0] == 'n':\n",
        "        dct['n1'].append(list(v[1])[0])\n",
        "        dct['n2'].append(list(v[1])[1])\n",
        "        \n",
        "\n",
        "      if v[0] == 'k':\n",
        "        dct['k1'].append(list(v[1])[0])\n",
        "        dct['k2'].append(list(v[1])[1])\n",
        "       \n",
        "    i += 2 \n",
        "    j += 2\n",
        "\n",
        "  \n",
        "  # print('-'*60)\n",
        "  # print(y)\n",
        "  # break"
      ],
      "execution_count": null,
      "outputs": []
    },
    {
      "cell_type": "code",
      "metadata": {
        "colab": {
          "base_uri": "https://localhost:8080/",
          "height": 203
        },
        "id": "wvF8BJzfI7ng",
        "outputId": "97bb81b1-cddc-4166-de44-aa6319c76e28"
      },
      "source": [
        "new_df = pd.DataFrame(dct)\n",
        "new_df.head()"
      ],
      "execution_count": null,
      "outputs": [
        {
          "output_type": "execute_result",
          "data": {
            "text/html": [
              "<div>\n",
              "<style scoped>\n",
              "    .dataframe tbody tr th:only-of-type {\n",
              "        vertical-align: middle;\n",
              "    }\n",
              "\n",
              "    .dataframe tbody tr th {\n",
              "        vertical-align: top;\n",
              "    }\n",
              "\n",
              "    .dataframe thead th {\n",
              "        text-align: right;\n",
              "    }\n",
              "</style>\n",
              "<table border=\"1\" class=\"dataframe\">\n",
              "  <thead>\n",
              "    <tr style=\"text-align: right;\">\n",
              "      <th></th>\n",
              "      <th>book</th>\n",
              "      <th>λ1</th>\n",
              "      <th>λ2</th>\n",
              "      <th>n1</th>\n",
              "      <th>n2</th>\n",
              "      <th>k1</th>\n",
              "      <th>k2</th>\n",
              "    </tr>\n",
              "  </thead>\n",
              "  <tbody>\n",
              "    <tr>\n",
              "      <th>0</th>\n",
              "      <td>(C2ClF3)n - polychlorotrifluoroethylene</td>\n",
              "      <td>0.09000</td>\n",
              "      <td>0.09000</td>\n",
              "      <td>1.196</td>\n",
              "      <td>1.209</td>\n",
              "      <td>0.6096</td>\n",
              "      <td>0.6501</td>\n",
              "    </tr>\n",
              "    <tr>\n",
              "      <th>1</th>\n",
              "      <td>(C2ClF3)n - polychlorotrifluoroethylene</td>\n",
              "      <td>0.09000</td>\n",
              "      <td>0.09000</td>\n",
              "      <td>1.228</td>\n",
              "      <td>1.235</td>\n",
              "      <td>0.7096</td>\n",
              "      <td>0.7315</td>\n",
              "    </tr>\n",
              "    <tr>\n",
              "      <th>2</th>\n",
              "      <td>(C2ClF3)n - polychlorotrifluoroethylene</td>\n",
              "      <td>0.10120</td>\n",
              "      <td>0.10000</td>\n",
              "      <td>1.417</td>\n",
              "      <td>1.420</td>\n",
              "      <td>0.4472</td>\n",
              "      <td>0.4551</td>\n",
              "    </tr>\n",
              "    <tr>\n",
              "      <th>3</th>\n",
              "      <td>(C2ClF3)n - polychlorotrifluoroethylene</td>\n",
              "      <td>0.08266</td>\n",
              "      <td>0.08266</td>\n",
              "      <td>1.440</td>\n",
              "      <td>1.440</td>\n",
              "      <td>0.8090</td>\n",
              "      <td>0.8090</td>\n",
              "    </tr>\n",
              "    <tr>\n",
              "      <th>4</th>\n",
              "      <td>(C2ClF3)n - polychlorotrifluoroethylene</td>\n",
              "      <td>0.11620</td>\n",
              "      <td>0.10120</td>\n",
              "      <td>1.442</td>\n",
              "      <td>1.446</td>\n",
              "      <td>0.3024</td>\n",
              "      <td>0.4768</td>\n",
              "    </tr>\n",
              "  </tbody>\n",
              "</table>\n",
              "</div>"
            ],
            "text/plain": [
              "                                      book       λ1  ...      k1      k2\n",
              "0  (C2ClF3)n - polychlorotrifluoroethylene  0.09000  ...  0.6096  0.6501\n",
              "1  (C2ClF3)n - polychlorotrifluoroethylene  0.09000  ...  0.7096  0.7315\n",
              "2  (C2ClF3)n - polychlorotrifluoroethylene  0.10120  ...  0.4472  0.4551\n",
              "3  (C2ClF3)n - polychlorotrifluoroethylene  0.08266  ...  0.8090  0.8090\n",
              "4  (C2ClF3)n - polychlorotrifluoroethylene  0.11620  ...  0.3024  0.4768\n",
              "\n",
              "[5 rows x 7 columns]"
            ]
          },
          "metadata": {
            "tags": []
          },
          "execution_count": 11
        }
      ]
    },
    {
      "cell_type": "code",
      "metadata": {
        "colab": {
          "base_uri": "https://localhost:8080/",
          "height": 203
        },
        "id": "5RokNEqtJACo",
        "outputId": "d90265a8-6e84-4dbc-c263-afbfe9f73391"
      },
      "source": [
        "new_df.tail()"
      ],
      "execution_count": null,
      "outputs": [
        {
          "output_type": "execute_result",
          "data": {
            "text/html": [
              "<div>\n",
              "<style scoped>\n",
              "    .dataframe tbody tr th:only-of-type {\n",
              "        vertical-align: middle;\n",
              "    }\n",
              "\n",
              "    .dataframe tbody tr th {\n",
              "        vertical-align: top;\n",
              "    }\n",
              "\n",
              "    .dataframe thead th {\n",
              "        text-align: right;\n",
              "    }\n",
              "</style>\n",
              "<table border=\"1\" class=\"dataframe\">\n",
              "  <thead>\n",
              "    <tr style=\"text-align: right;\">\n",
              "      <th></th>\n",
              "      <th>book</th>\n",
              "      <th>λ1</th>\n",
              "      <th>λ2</th>\n",
              "      <th>n1</th>\n",
              "      <th>n2</th>\n",
              "      <th>k1</th>\n",
              "      <th>k2</th>\n",
              "    </tr>\n",
              "  </thead>\n",
              "  <tbody>\n",
              "    <tr>\n",
              "      <th>122595</th>\n",
              "      <td>urea</td>\n",
              "      <td>0.9764</td>\n",
              "      <td>0.9840</td>\n",
              "      <td>1.481836</td>\n",
              "      <td>1.481763</td>\n",
              "      <td>0.0</td>\n",
              "      <td>0.0</td>\n",
              "    </tr>\n",
              "    <tr>\n",
              "      <th>122596</th>\n",
              "      <td>urea</td>\n",
              "      <td>0.9916</td>\n",
              "      <td>0.9992</td>\n",
              "      <td>1.481693</td>\n",
              "      <td>1.481623</td>\n",
              "      <td>0.0</td>\n",
              "      <td>0.0</td>\n",
              "    </tr>\n",
              "    <tr>\n",
              "      <th>122597</th>\n",
              "      <td>urea</td>\n",
              "      <td>1.0070</td>\n",
              "      <td>1.0140</td>\n",
              "      <td>1.481554</td>\n",
              "      <td>1.481493</td>\n",
              "      <td>0.0</td>\n",
              "      <td>0.0</td>\n",
              "    </tr>\n",
              "    <tr>\n",
              "      <th>122598</th>\n",
              "      <td>urea</td>\n",
              "      <td>1.0220</td>\n",
              "      <td>1.0300</td>\n",
              "      <td>1.481426</td>\n",
              "      <td>1.481359</td>\n",
              "      <td>0.0</td>\n",
              "      <td>0.0</td>\n",
              "    </tr>\n",
              "    <tr>\n",
              "      <th>122599</th>\n",
              "      <td>urea</td>\n",
              "      <td>1.0370</td>\n",
              "      <td>1.0450</td>\n",
              "      <td>1.481303</td>\n",
              "      <td>1.481239</td>\n",
              "      <td>0.0</td>\n",
              "      <td>0.0</td>\n",
              "    </tr>\n",
              "  </tbody>\n",
              "</table>\n",
              "</div>"
            ],
            "text/plain": [
              "        book      λ1      λ2        n1        n2   k1   k2\n",
              "122595  urea  0.9764  0.9840  1.481836  1.481763  0.0  0.0\n",
              "122596  urea  0.9916  0.9992  1.481693  1.481623  0.0  0.0\n",
              "122597  urea  1.0070  1.0140  1.481554  1.481493  0.0  0.0\n",
              "122598  urea  1.0220  1.0300  1.481426  1.481359  0.0  0.0\n",
              "122599  urea  1.0370  1.0450  1.481303  1.481239  0.0  0.0"
            ]
          },
          "metadata": {
            "tags": []
          },
          "execution_count": 12
        }
      ]
    },
    {
      "cell_type": "code",
      "metadata": {
        "id": "iucnr5ESJD_8"
      },
      "source": [
        "new_df.to_csv('new_organic_data7.csv',index=False)"
      ],
      "execution_count": null,
      "outputs": []
    },
    {
      "cell_type": "code",
      "metadata": {
        "id": "Gz_eqZT7Jakn"
      },
      "source": [
        "new_data = pd.read_csv('new_organic_data7.csv')"
      ],
      "execution_count": null,
      "outputs": []
    },
    {
      "cell_type": "code",
      "metadata": {
        "colab": {
          "base_uri": "https://localhost:8080/"
        },
        "id": "VjBVLDB7JfeL",
        "outputId": "8cbe888a-3565-4015-8670-55e7fc6a3ddd"
      },
      "source": [
        "new_data.shape"
      ],
      "execution_count": null,
      "outputs": [
        {
          "output_type": "execute_result",
          "data": {
            "text/plain": [
              "(122600, 7)"
            ]
          },
          "metadata": {
            "tags": []
          },
          "execution_count": 15
        }
      ]
    },
    {
      "cell_type": "code",
      "metadata": {
        "colab": {
          "base_uri": "https://localhost:8080/"
        },
        "id": "tzVf6H3oJkbw",
        "outputId": "ee040cf4-1970-4953-e930-e2405bff14b4"
      },
      "source": [
        "new_data.isnull().sum()"
      ],
      "execution_count": null,
      "outputs": [
        {
          "output_type": "execute_result",
          "data": {
            "text/plain": [
              "book    0\n",
              "λ1      0\n",
              "λ2      0\n",
              "n1      0\n",
              "n2      0\n",
              "k1      0\n",
              "k2      0\n",
              "dtype: int64"
            ]
          },
          "metadata": {
            "tags": []
          },
          "execution_count": 16
        }
      ]
    },
    {
      "cell_type": "markdown",
      "metadata": {
        "id": "_ldZSk8sLMd0"
      },
      "source": [
        "# **Modelling and Evaluation 7 attributes**"
      ]
    },
    {
      "cell_type": "code",
      "metadata": {
        "id": "22jkIzmkKEDT"
      },
      "source": [
        "new_df = new_data.copy()\n",
        "y = new_df['book']\n",
        "x = new_df.drop('book',axis=1)"
      ],
      "execution_count": null,
      "outputs": []
    },
    {
      "cell_type": "code",
      "metadata": {
        "id": "cyZQ6kDlKpKE"
      },
      "source": [
        "#split the data for training and testing\n",
        "from sklearn.metrics import accuracy_score,classification_report\n",
        "x_train,x_test,y_train,y_test = train_test_split(x,y,test_size = 0.25,random_state=42)"
      ],
      "execution_count": null,
      "outputs": []
    },
    {
      "cell_type": "code",
      "metadata": {
        "id": "4P6jyRD0LYF3"
      },
      "source": [
        "numeric_features = [ 'λ1','λ2','n1','n2','k1','k2']"
      ],
      "execution_count": null,
      "outputs": []
    },
    {
      "cell_type": "code",
      "metadata": {
        "id": "alYcwqwCLhHr"
      },
      "source": [
        "#preprocessing and training pipeline with our own bins\n",
        "\n",
        "numeric_transformer = Pipeline(steps=[\n",
        "                                      ('scaler', StandardScaler())\n",
        "                                      ])\n",
        "\n",
        "# categorical_transformer = Pipeline(steps=[\n",
        "#                                           ('onehot',OneHotEncoder())\n",
        "#                                           ])\n",
        "\n",
        "preprocessor = ColumnTransformer(\n",
        "    transformers=[\n",
        "                  ('numeric', numeric_transformer, numeric_features),   #apply the transformation\n",
        "                  # ('category',categorical_transformer,cat_features)\n",
        "                  ]) \n",
        "\n",
        "pipeline = Pipeline(steps = [\n",
        "               ('preprocessor', preprocessor)\n",
        "              ,('regressor',RandomForestClassifier())\n",
        "           ])"
      ],
      "execution_count": null,
      "outputs": []
    },
    {
      "cell_type": "code",
      "metadata": {
        "colab": {
          "base_uri": "https://localhost:8080/"
        },
        "id": "y_T-fh9DLn4-",
        "outputId": "c5f8cfef-85dd-465b-d108-515c3d014cd4"
      },
      "source": [
        "rf_model = pipeline.fit(x_train, y_train)\n",
        "print (rf_model)"
      ],
      "execution_count": null,
      "outputs": [
        {
          "output_type": "stream",
          "text": [
            "Pipeline(memory=None,\n",
            "         steps=[('preprocessor',\n",
            "                 ColumnTransformer(n_jobs=None, remainder='drop',\n",
            "                                   sparse_threshold=0.3,\n",
            "                                   transformer_weights=None,\n",
            "                                   transformers=[('numeric',\n",
            "                                                  Pipeline(memory=None,\n",
            "                                                           steps=[('scaler',\n",
            "                                                                   StandardScaler(copy=True,\n",
            "                                                                                  with_mean=True,\n",
            "                                                                                  with_std=True))],\n",
            "                                                           verbose=False),\n",
            "                                                  ['λ1', 'λ2', 'n1', 'n2', 'k1',\n",
            "                                                   'k2'])],\n",
            "                                   verbose=False)),\n",
            "                ('regressor',\n",
            "                 RandomForestCla...rue, ccp_alpha=0.0,\n",
            "                                        class_weight=None, criterion='gini',\n",
            "                                        max_depth=None, max_features='auto',\n",
            "                                        max_leaf_nodes=None, max_samples=None,\n",
            "                                        min_impurity_decrease=0.0,\n",
            "                                        min_impurity_split=None,\n",
            "                                        min_samples_leaf=1, min_samples_split=2,\n",
            "                                        min_weight_fraction_leaf=0.0,\n",
            "                                        n_estimators=100, n_jobs=None,\n",
            "                                        oob_score=False, random_state=None,\n",
            "                                        verbose=0, warm_start=False))],\n",
            "         verbose=False)\n"
          ],
          "name": "stdout"
        }
      ]
    },
    {
      "cell_type": "code",
      "metadata": {
        "colab": {
          "base_uri": "https://localhost:8080/"
        },
        "id": "b18vycw4Lte7",
        "outputId": "d0b694ff-06de-4b06-91f6-1e74a42957eb"
      },
      "source": [
        "print(f'Training accuracy is : {rf_model.score(x_train,y_train)}')\n",
        "print(f'Testing accuracy is : {rf_model.score(x_test,y_test)}')"
      ],
      "execution_count": null,
      "outputs": [
        {
          "output_type": "stream",
          "text": [
            "Training accuracy is : 0.9919630233822729\n",
            "Testing accuracy is : 0.9017618270799348\n"
          ],
          "name": "stdout"
        }
      ]
    },
    {
      "cell_type": "code",
      "metadata": {
        "colab": {
          "base_uri": "https://localhost:8080/",
          "height": 390
        },
        "id": "BSP5PvhOMEhk",
        "outputId": "f36a10ff-4c63-4180-f9c4-df5963017717"
      },
      "source": [
        "plt.figure(figsize=(8,6))\n",
        "plt.bar(['Training','Testing'],[rf_model.score(x_train,y_train),rf_model.score(x_test,y_test)])\n",
        "plt.title('Training vs Testing Accuracy on new dataset')\n",
        "plt.yticks(np.arange(0,1.05,0.05))\n",
        "plt.ylabel('Accuracy')\n",
        "plt.show()"
      ],
      "execution_count": null,
      "outputs": [
        {
          "output_type": "display_data",
          "data": {
            "image/png": "[encoded data removed]",
            "text/plain": [
              "<Figure size 576x432 with 1 Axes>"
            ]
          },
          "metadata": {
            "tags": [],
            "needs_background": "light"
          }
        }
      ]
    },
    {
      "cell_type": "code",
      "metadata": {
        "colab": {
          "base_uri": "https://localhost:8080/"
        },
        "id": "NBdcX14sMqDS",
        "outputId": "3c504581-59f1-4d71-de7a-95cd62e370b6"
      },
      "source": [
        "from sklearn.metrics import precision_score,recall_score,f1_score\n",
        "\n",
        "test_pred = rf_model.predict(x_test)\n",
        "print(f\"Precision score {precision_score(y_test,test_pred,average='weighted')}\")\n",
        "print(f\"Recall score {recall_score(y_test,test_pred,average='weighted')}\")\n",
        "print(f\"F1 score {f1_score(y_test,test_pred,average='weighted')}\")"
      ],
      "execution_count": null,
      "outputs": [
        {
          "output_type": "stream",
          "text": [
            "Precision score 0.9007887942199435\n",
            "Recall score 0.9017618270799348\n",
            "F1 score 0.9008890785083611\n"
          ],
          "name": "stdout"
        }
      ]
    },
    {
      "cell_type": "code",
      "metadata": {
        "colab": {
          "base_uri": "https://localhost:8080/",
          "height": 390
        },
        "id": "xjVTLneVNgL3",
        "outputId": "d29e27af-f933-4ef2-a40e-4e4db74f4b5d"
      },
      "source": [
        "plt.figure(figsize=(8,6))\n",
        "\n",
        "plt.bar(['Precision','Recall','F1-Score'],\n",
        "        [precision_score(y_test,test_pred,average='weighted'),\n",
        "                                           recall_score(y_test,test_pred,average='weighted'),\n",
        "                                           f1_score(y_test,test_pred,average='weighted')])\n",
        "\n",
        "plt.title('Precision-Recall and F1-score on new dataset')\n",
        "plt.yticks(np.arange(0,1.05,0.05))\n",
        "plt.show()"
      ],
      "execution_count": null,
      "outputs": [
        {
          "output_type": "display_data",
          "data": {
            "image/png": "[encoded data removed]",
            "text/plain": [
              "<Figure size 576x432 with 1 Axes>"
            ]
          },
          "metadata": {
            "tags": [],
            "needs_background": "light"
          }
        }
      ]
    },
    {
      "cell_type": "code",
      "metadata": {
        "colab": {
          "base_uri": "https://localhost:8080/",
          "height": 110
        },
        "id": "T48welX4N3Gn",
        "outputId": "3b0ed411-f8b8-43cc-8820-f2ac6e55855b"
      },
      "source": [
        "x_test[0:2]"
      ],
      "execution_count": null,
      "outputs": [
        {
          "output_type": "execute_result",
          "data": {
            "text/html": [
              "<div>\n",
              "<style scoped>\n",
              "    .dataframe tbody tr th:only-of-type {\n",
              "        vertical-align: middle;\n",
              "    }\n",
              "\n",
              "    .dataframe tbody tr th {\n",
              "        vertical-align: top;\n",
              "    }\n",
              "\n",
              "    .dataframe thead th {\n",
              "        text-align: right;\n",
              "    }\n",
              "</style>\n",
              "<table border=\"1\" class=\"dataframe\">\n",
              "  <thead>\n",
              "    <tr style=\"text-align: right;\">\n",
              "      <th></th>\n",
              "      <th>λ1</th>\n",
              "      <th>λ2</th>\n",
              "      <th>n1</th>\n",
              "      <th>n2</th>\n",
              "      <th>k1</th>\n",
              "      <th>k2</th>\n",
              "    </tr>\n",
              "  </thead>\n",
              "  <tbody>\n",
              "    <tr>\n",
              "      <th>101910</th>\n",
              "      <td>1.88212</td>\n",
              "      <td>1.88229</td>\n",
              "      <td>1.51593</td>\n",
              "      <td>1.51593</td>\n",
              "      <td>0.000039</td>\n",
              "      <td>0.000039</td>\n",
              "    </tr>\n",
              "    <tr>\n",
              "      <th>39628</th>\n",
              "      <td>4.35079</td>\n",
              "      <td>4.35170</td>\n",
              "      <td>1.38812</td>\n",
              "      <td>1.38811</td>\n",
              "      <td>0.000439</td>\n",
              "      <td>0.000435</td>\n",
              "    </tr>\n",
              "  </tbody>\n",
              "</table>\n",
              "</div>"
            ],
            "text/plain": [
              "             λ1       λ2       n1       n2        k1        k2\n",
              "101910  1.88212  1.88229  1.51593  1.51593  0.000039  0.000039\n",
              "39628   4.35079  4.35170  1.38812  1.38811  0.000439  0.000435"
            ]
          },
          "metadata": {
            "tags": []
          },
          "execution_count": 26
        }
      ]
    },
    {
      "cell_type": "code",
      "metadata": {
        "colab": {
          "base_uri": "https://localhost:8080/"
        },
        "id": "QOPGePiEN9Hd",
        "outputId": "dbac21c5-d8cc-4cee-e240-89c004568cb8"
      },
      "source": [
        "y_test[0:2]"
      ],
      "execution_count": null,
      "outputs": [
        {
          "output_type": "execute_result",
          "data": {
            "text/plain": [
              "101910                       styrene\n",
              "39628     dimethyl_methylphosphonate\n",
              "Name: book, dtype: object"
            ]
          },
          "metadata": {
            "tags": []
          },
          "execution_count": 27
        }
      ]
    },
    {
      "cell_type": "code",
      "metadata": {
        "colab": {
          "base_uri": "https://localhost:8080/"
        },
        "id": "OYr594SfOSQG",
        "outputId": "c10fe496-30e2-4293-f047-c9cb8af7f1dd"
      },
      "source": [
        "rf_model.predict(x_test[0:2])"
      ],
      "execution_count": null,
      "outputs": [
        {
          "output_type": "execute_result",
          "data": {
            "text/plain": [
              "array(['styrene', 'dimethyl_methylphosphonate'], dtype=object)"
            ]
          },
          "metadata": {
            "tags": []
          },
          "execution_count": 28
        }
      ]
    },
    {
      "cell_type": "code",
      "metadata": {
        "id": "gB2tiKGHOr0T"
      },
      "source": [
        ""
      ],
      "execution_count": null,
      "outputs": []
    },
    {
      "cell_type": "markdown",
      "metadata": {
        "id": "LvH91YpZOeSO"
      },
      "source": [
        "**Modelling and Evaluation 10 attributes**"
      ]
    },
    {
      "cell_type": "code",
      "metadata": {
        "colab": {
          "base_uri": "https://localhost:8080/",
          "height": 203
        },
        "id": "hbYCzx75Oxkj",
        "outputId": "2794364e-9bb7-4782-f52f-db11b6d64fba"
      },
      "source": [
        "df = pd.read_excel('/content/ORGANIC.xlsx')\n",
        "df.head()"
      ],
      "execution_count": null,
      "outputs": [
        {
          "output_type": "execute_result",
          "data": {
            "text/html": [
              "<div>\n",
              "<style scoped>\n",
              "    .dataframe tbody tr th:only-of-type {\n",
              "        vertical-align: middle;\n",
              "    }\n",
              "\n",
              "    .dataframe tbody tr th {\n",
              "        vertical-align: top;\n",
              "    }\n",
              "\n",
              "    .dataframe thead th {\n",
              "        text-align: right;\n",
              "    }\n",
              "</style>\n",
              "<table border=\"1\" class=\"dataframe\">\n",
              "  <thead>\n",
              "    <tr style=\"text-align: right;\">\n",
              "      <th></th>\n",
              "      <th>shelf</th>\n",
              "      <th>book</th>\n",
              "      <th>page</th>\n",
              "      <th>λ</th>\n",
              "      <th>n</th>\n",
              "      <th>k</th>\n",
              "    </tr>\n",
              "  </thead>\n",
              "  <tbody>\n",
              "    <tr>\n",
              "      <th>0</th>\n",
              "      <td>organic</td>\n",
              "      <td>(C2ClF3)n - polychlorotrifluoroethylene</td>\n",
              "      <td>Smith</td>\n",
              "      <td>0.0900</td>\n",
              "      <td>1.196</td>\n",
              "      <td>0.6096</td>\n",
              "    </tr>\n",
              "    <tr>\n",
              "      <th>1</th>\n",
              "      <td>organic</td>\n",
              "      <td>(C2ClF3)n - polychlorotrifluoroethylene</td>\n",
              "      <td>Smith</td>\n",
              "      <td>0.0900</td>\n",
              "      <td>1.209</td>\n",
              "      <td>0.6501</td>\n",
              "    </tr>\n",
              "    <tr>\n",
              "      <th>2</th>\n",
              "      <td>organic</td>\n",
              "      <td>(C2ClF3)n - polychlorotrifluoroethylene</td>\n",
              "      <td>Smith</td>\n",
              "      <td>0.0900</td>\n",
              "      <td>1.228</td>\n",
              "      <td>0.7096</td>\n",
              "    </tr>\n",
              "    <tr>\n",
              "      <th>3</th>\n",
              "      <td>organic</td>\n",
              "      <td>(C2ClF3)n - polychlorotrifluoroethylene</td>\n",
              "      <td>Smith</td>\n",
              "      <td>0.0900</td>\n",
              "      <td>1.235</td>\n",
              "      <td>0.7315</td>\n",
              "    </tr>\n",
              "    <tr>\n",
              "      <th>4</th>\n",
              "      <td>organic</td>\n",
              "      <td>(C2ClF3)n - polychlorotrifluoroethylene</td>\n",
              "      <td>Smith</td>\n",
              "      <td>0.1012</td>\n",
              "      <td>1.417</td>\n",
              "      <td>0.4472</td>\n",
              "    </tr>\n",
              "  </tbody>\n",
              "</table>\n",
              "</div>"
            ],
            "text/plain": [
              "     shelf                                     book  ...      n       k\n",
              "0  organic  (C2ClF3)n - polychlorotrifluoroethylene  ...  1.196  0.6096\n",
              "1  organic  (C2ClF3)n - polychlorotrifluoroethylene  ...  1.209  0.6501\n",
              "2  organic  (C2ClF3)n - polychlorotrifluoroethylene  ...  1.228  0.7096\n",
              "3  organic  (C2ClF3)n - polychlorotrifluoroethylene  ...  1.235  0.7315\n",
              "4  organic  (C2ClF3)n - polychlorotrifluoroethylene  ...  1.417  0.4472\n",
              "\n",
              "[5 rows x 6 columns]"
            ]
          },
          "metadata": {
            "tags": []
          },
          "execution_count": 30
        }
      ]
    },
    {
      "cell_type": "code",
      "metadata": {
        "id": "utszTRA-O5Ir"
      },
      "source": [
        "df['k'].fillna(0,inplace=True)\n",
        "df.dropna(axis=0,inplace=True)   #drop null values from n\n",
        "df.drop(['shelf','page'],axis=1,inplace=True)"
      ],
      "execution_count": null,
      "outputs": []
    },
    {
      "cell_type": "code",
      "metadata": {
        "colab": {
          "base_uri": "https://localhost:8080/",
          "height": 203
        },
        "id": "fITacRDDO-w2",
        "outputId": "d801f6f0-ee00-4123-b606-5ef6b649d5dd"
      },
      "source": [
        "df.head()"
      ],
      "execution_count": null,
      "outputs": [
        {
          "output_type": "execute_result",
          "data": {
            "text/html": [
              "<div>\n",
              "<style scoped>\n",
              "    .dataframe tbody tr th:only-of-type {\n",
              "        vertical-align: middle;\n",
              "    }\n",
              "\n",
              "    .dataframe tbody tr th {\n",
              "        vertical-align: top;\n",
              "    }\n",
              "\n",
              "    .dataframe thead th {\n",
              "        text-align: right;\n",
              "    }\n",
              "</style>\n",
              "<table border=\"1\" class=\"dataframe\">\n",
              "  <thead>\n",
              "    <tr style=\"text-align: right;\">\n",
              "      <th></th>\n",
              "      <th>book</th>\n",
              "      <th>λ</th>\n",
              "      <th>n</th>\n",
              "      <th>k</th>\n",
              "    </tr>\n",
              "  </thead>\n",
              "  <tbody>\n",
              "    <tr>\n",
              "      <th>0</th>\n",
              "      <td>(C2ClF3)n - polychlorotrifluoroethylene</td>\n",
              "      <td>0.0900</td>\n",
              "      <td>1.196</td>\n",
              "      <td>0.6096</td>\n",
              "    </tr>\n",
              "    <tr>\n",
              "      <th>1</th>\n",
              "      <td>(C2ClF3)n - polychlorotrifluoroethylene</td>\n",
              "      <td>0.0900</td>\n",
              "      <td>1.209</td>\n",
              "      <td>0.6501</td>\n",
              "    </tr>\n",
              "    <tr>\n",
              "      <th>2</th>\n",
              "      <td>(C2ClF3)n - polychlorotrifluoroethylene</td>\n",
              "      <td>0.0900</td>\n",
              "      <td>1.228</td>\n",
              "      <td>0.7096</td>\n",
              "    </tr>\n",
              "    <tr>\n",
              "      <th>3</th>\n",
              "      <td>(C2ClF3)n - polychlorotrifluoroethylene</td>\n",
              "      <td>0.0900</td>\n",
              "      <td>1.235</td>\n",
              "      <td>0.7315</td>\n",
              "    </tr>\n",
              "    <tr>\n",
              "      <th>4</th>\n",
              "      <td>(C2ClF3)n - polychlorotrifluoroethylene</td>\n",
              "      <td>0.1012</td>\n",
              "      <td>1.417</td>\n",
              "      <td>0.4472</td>\n",
              "    </tr>\n",
              "  </tbody>\n",
              "</table>\n",
              "</div>"
            ],
            "text/plain": [
              "                                      book       λ      n       k\n",
              "0  (C2ClF3)n - polychlorotrifluoroethylene  0.0900  1.196  0.6096\n",
              "1  (C2ClF3)n - polychlorotrifluoroethylene  0.0900  1.209  0.6501\n",
              "2  (C2ClF3)n - polychlorotrifluoroethylene  0.0900  1.228  0.7096\n",
              "3  (C2ClF3)n - polychlorotrifluoroethylene  0.0900  1.235  0.7315\n",
              "4  (C2ClF3)n - polychlorotrifluoroethylene  0.1012  1.417  0.4472"
            ]
          },
          "metadata": {
            "tags": []
          },
          "execution_count": 32
        }
      ]
    },
    {
      "cell_type": "code",
      "metadata": {
        "id": "uPrDJ0anPGiP"
      },
      "source": [
        "df.sort_values(['book','λ']).reset_index(drop=True,inplace=True)"
      ],
      "execution_count": null,
      "outputs": []
    },
    {
      "cell_type": "code",
      "metadata": {
        "colab": {
          "base_uri": "https://localhost:8080/",
          "height": 203
        },
        "id": "BK0Ye-qzPPVn",
        "outputId": "d0fb0f92-0a95-4002-898d-031db9de498d"
      },
      "source": [
        "df.head()"
      ],
      "execution_count": null,
      "outputs": [
        {
          "output_type": "execute_result",
          "data": {
            "text/html": [
              "<div>\n",
              "<style scoped>\n",
              "    .dataframe tbody tr th:only-of-type {\n",
              "        vertical-align: middle;\n",
              "    }\n",
              "\n",
              "    .dataframe tbody tr th {\n",
              "        vertical-align: top;\n",
              "    }\n",
              "\n",
              "    .dataframe thead th {\n",
              "        text-align: right;\n",
              "    }\n",
              "</style>\n",
              "<table border=\"1\" class=\"dataframe\">\n",
              "  <thead>\n",
              "    <tr style=\"text-align: right;\">\n",
              "      <th></th>\n",
              "      <th>book</th>\n",
              "      <th>λ</th>\n",
              "      <th>n</th>\n",
              "      <th>k</th>\n",
              "    </tr>\n",
              "  </thead>\n",
              "  <tbody>\n",
              "    <tr>\n",
              "      <th>0</th>\n",
              "      <td>(C2ClF3)n - polychlorotrifluoroethylene</td>\n",
              "      <td>0.0900</td>\n",
              "      <td>1.196</td>\n",
              "      <td>0.6096</td>\n",
              "    </tr>\n",
              "    <tr>\n",
              "      <th>1</th>\n",
              "      <td>(C2ClF3)n - polychlorotrifluoroethylene</td>\n",
              "      <td>0.0900</td>\n",
              "      <td>1.209</td>\n",
              "      <td>0.6501</td>\n",
              "    </tr>\n",
              "    <tr>\n",
              "      <th>2</th>\n",
              "      <td>(C2ClF3)n - polychlorotrifluoroethylene</td>\n",
              "      <td>0.0900</td>\n",
              "      <td>1.228</td>\n",
              "      <td>0.7096</td>\n",
              "    </tr>\n",
              "    <tr>\n",
              "      <th>3</th>\n",
              "      <td>(C2ClF3)n - polychlorotrifluoroethylene</td>\n",
              "      <td>0.0900</td>\n",
              "      <td>1.235</td>\n",
              "      <td>0.7315</td>\n",
              "    </tr>\n",
              "    <tr>\n",
              "      <th>4</th>\n",
              "      <td>(C2ClF3)n - polychlorotrifluoroethylene</td>\n",
              "      <td>0.1012</td>\n",
              "      <td>1.417</td>\n",
              "      <td>0.4472</td>\n",
              "    </tr>\n",
              "  </tbody>\n",
              "</table>\n",
              "</div>"
            ],
            "text/plain": [
              "                                      book       λ      n       k\n",
              "0  (C2ClF3)n - polychlorotrifluoroethylene  0.0900  1.196  0.6096\n",
              "1  (C2ClF3)n - polychlorotrifluoroethylene  0.0900  1.209  0.6501\n",
              "2  (C2ClF3)n - polychlorotrifluoroethylene  0.0900  1.228  0.7096\n",
              "3  (C2ClF3)n - polychlorotrifluoroethylene  0.0900  1.235  0.7315\n",
              "4  (C2ClF3)n - polychlorotrifluoroethylene  0.1012  1.417  0.4472"
            ]
          },
          "metadata": {
            "tags": []
          },
          "execution_count": 34
        }
      ]
    },
    {
      "cell_type": "code",
      "metadata": {
        "id": "hp_Sbcc4WoJS"
      },
      "source": [
        "\n",
        "dct = {'book':[],\n",
        "       'λ1':[],\n",
        "       'λ2' : [],\n",
        "       'λ3' : [],\n",
        "       'n1' : [],\n",
        "       'n2' : [],\n",
        "       'n3' : [],\n",
        "       'k1' : [],\n",
        "       'k2' : [],\n",
        "       'k3' : []}\n",
        "\n",
        "grp = df.groupby('book')   #group the data by books\n",
        "grp_names = list(grp.groups.keys())\n",
        "\n",
        "for i in grp_names:\n",
        "  x = grp.get_group(i).reset_index(drop=True)\n",
        "  i = 0\n",
        "  j = 3\n",
        "\n",
        "  for d in range(x.shape[0]):\n",
        "   # print(i,j)\n",
        "    if j >= x.shape[0]:\n",
        "      break\n",
        "\n",
        "    for v in x.iloc[i:j].iteritems():\n",
        "      \n",
        "      if v[0] == 'book':\n",
        "     #  print(v[1])\n",
        "        dct['book'].append(v[1].unique()[0])\n",
        "\n",
        "      if v[0] == 'λ':\n",
        "        dct['λ1'].append(list(v[1])[0])\n",
        "        dct['λ2'].append(list(v[1])[1])\n",
        "        dct['λ3'].append(list(v[1])[2])\n",
        "\n",
        "      if v[0] == 'n':\n",
        "        dct['n1'].append(list(v[1])[0])\n",
        "        dct['n2'].append(list(v[1])[1])\n",
        "        dct['n3'].append(list(v[1])[2])\n",
        "\n",
        "      if v[0] == 'k':\n",
        "        dct['k1'].append(list(v[1])[0])\n",
        "        dct['k2'].append(list(v[1])[1])\n",
        "        dct['k3'].append(list(v[1])[2])\n",
        "    i += 3 \n",
        "    j += 3\n",
        "\n",
        "  \n",
        "  # print('-'*60)\n",
        "  # print(y)\n",
        "  # break"
      ],
      "execution_count": null,
      "outputs": []
    },
    {
      "cell_type": "code",
      "metadata": {
        "colab": {
          "base_uri": "https://localhost:8080/",
          "height": 203
        },
        "id": "RPlPKKT1iAli",
        "outputId": "c97035cb-8ab9-4ec5-d66f-a0d552f2dbbc"
      },
      "source": [
        "new_df = pd.DataFrame(dct)\n",
        "new_df.head()"
      ],
      "execution_count": null,
      "outputs": [
        {
          "output_type": "execute_result",
          "data": {
            "text/html": [
              "<div>\n",
              "<style scoped>\n",
              "    .dataframe tbody tr th:only-of-type {\n",
              "        vertical-align: middle;\n",
              "    }\n",
              "\n",
              "    .dataframe tbody tr th {\n",
              "        vertical-align: top;\n",
              "    }\n",
              "\n",
              "    .dataframe thead th {\n",
              "        text-align: right;\n",
              "    }\n",
              "</style>\n",
              "<table border=\"1\" class=\"dataframe\">\n",
              "  <thead>\n",
              "    <tr style=\"text-align: right;\">\n",
              "      <th></th>\n",
              "      <th>book</th>\n",
              "      <th>λ1</th>\n",
              "      <th>λ2</th>\n",
              "      <th>λ3</th>\n",
              "      <th>n1</th>\n",
              "      <th>n2</th>\n",
              "      <th>n3</th>\n",
              "      <th>k1</th>\n",
              "      <th>k2</th>\n",
              "      <th>k3</th>\n",
              "    </tr>\n",
              "  </thead>\n",
              "  <tbody>\n",
              "    <tr>\n",
              "      <th>0</th>\n",
              "      <td>(C2ClF3)n - polychlorotrifluoroethylene</td>\n",
              "      <td>0.09000</td>\n",
              "      <td>0.09000</td>\n",
              "      <td>0.0900</td>\n",
              "      <td>1.196</td>\n",
              "      <td>1.209</td>\n",
              "      <td>1.228</td>\n",
              "      <td>0.6096</td>\n",
              "      <td>0.6501</td>\n",
              "      <td>0.7096</td>\n",
              "    </tr>\n",
              "    <tr>\n",
              "      <th>1</th>\n",
              "      <td>(C2ClF3)n - polychlorotrifluoroethylene</td>\n",
              "      <td>0.09000</td>\n",
              "      <td>0.10120</td>\n",
              "      <td>0.1000</td>\n",
              "      <td>1.235</td>\n",
              "      <td>1.417</td>\n",
              "      <td>1.420</td>\n",
              "      <td>0.7315</td>\n",
              "      <td>0.4472</td>\n",
              "      <td>0.4551</td>\n",
              "    </tr>\n",
              "    <tr>\n",
              "      <th>2</th>\n",
              "      <td>(C2ClF3)n - polychlorotrifluoroethylene</td>\n",
              "      <td>0.08266</td>\n",
              "      <td>0.08266</td>\n",
              "      <td>0.1162</td>\n",
              "      <td>1.440</td>\n",
              "      <td>1.440</td>\n",
              "      <td>1.442</td>\n",
              "      <td>0.8090</td>\n",
              "      <td>0.8090</td>\n",
              "      <td>0.3024</td>\n",
              "    </tr>\n",
              "    <tr>\n",
              "      <th>3</th>\n",
              "      <td>(C2ClF3)n - polychlorotrifluoroethylene</td>\n",
              "      <td>0.10120</td>\n",
              "      <td>0.10000</td>\n",
              "      <td>0.1200</td>\n",
              "      <td>1.446</td>\n",
              "      <td>1.448</td>\n",
              "      <td>1.455</td>\n",
              "      <td>0.4768</td>\n",
              "      <td>0.4853</td>\n",
              "      <td>0.3128</td>\n",
              "    </tr>\n",
              "    <tr>\n",
              "      <th>4</th>\n",
              "      <td>(C2ClF3)n - polychlorotrifluoroethylene</td>\n",
              "      <td>0.11620</td>\n",
              "      <td>0.10870</td>\n",
              "      <td>0.1012</td>\n",
              "      <td>1.472</td>\n",
              "      <td>1.476</td>\n",
              "      <td>1.486</td>\n",
              "      <td>0.3225</td>\n",
              "      <td>0.3527</td>\n",
              "      <td>0.5203</td>\n",
              "    </tr>\n",
              "  </tbody>\n",
              "</table>\n",
              "</div>"
            ],
            "text/plain": [
              "                                      book       λ1  ...      k2      k3\n",
              "0  (C2ClF3)n - polychlorotrifluoroethylene  0.09000  ...  0.6501  0.7096\n",
              "1  (C2ClF3)n - polychlorotrifluoroethylene  0.09000  ...  0.4472  0.4551\n",
              "2  (C2ClF3)n - polychlorotrifluoroethylene  0.08266  ...  0.8090  0.3024\n",
              "3  (C2ClF3)n - polychlorotrifluoroethylene  0.10120  ...  0.4853  0.3128\n",
              "4  (C2ClF3)n - polychlorotrifluoroethylene  0.11620  ...  0.3527  0.5203\n",
              "\n",
              "[5 rows x 10 columns]"
            ]
          },
          "metadata": {
            "tags": []
          },
          "execution_count": 36
        }
      ]
    },
    {
      "cell_type": "code",
      "metadata": {
        "colab": {
          "base_uri": "https://localhost:8080/",
          "height": 203
        },
        "id": "GLsAU0Ju18Dg",
        "outputId": "5000628e-03f2-44db-9671-d43f2304ffc3"
      },
      "source": [
        "new_df.tail()"
      ],
      "execution_count": null,
      "outputs": [
        {
          "output_type": "execute_result",
          "data": {
            "text/html": [
              "<div>\n",
              "<style scoped>\n",
              "    .dataframe tbody tr th:only-of-type {\n",
              "        vertical-align: middle;\n",
              "    }\n",
              "\n",
              "    .dataframe tbody tr th {\n",
              "        vertical-align: top;\n",
              "    }\n",
              "\n",
              "    .dataframe thead th {\n",
              "        text-align: right;\n",
              "    }\n",
              "</style>\n",
              "<table border=\"1\" class=\"dataframe\">\n",
              "  <thead>\n",
              "    <tr style=\"text-align: right;\">\n",
              "      <th></th>\n",
              "      <th>book</th>\n",
              "      <th>λ1</th>\n",
              "      <th>λ2</th>\n",
              "      <th>λ3</th>\n",
              "      <th>n1</th>\n",
              "      <th>n2</th>\n",
              "      <th>n3</th>\n",
              "      <th>k1</th>\n",
              "      <th>k2</th>\n",
              "      <th>k3</th>\n",
              "    </tr>\n",
              "  </thead>\n",
              "  <tbody>\n",
              "    <tr>\n",
              "      <th>81716</th>\n",
              "      <td>urea</td>\n",
              "      <td>0.9460</td>\n",
              "      <td>0.9536</td>\n",
              "      <td>0.9612</td>\n",
              "      <td>1.482144</td>\n",
              "      <td>1.482064</td>\n",
              "      <td>1.481986</td>\n",
              "      <td>0.0</td>\n",
              "      <td>0.0</td>\n",
              "      <td>0.0</td>\n",
              "    </tr>\n",
              "    <tr>\n",
              "      <th>81717</th>\n",
              "      <td>urea</td>\n",
              "      <td>0.9688</td>\n",
              "      <td>0.9764</td>\n",
              "      <td>0.9840</td>\n",
              "      <td>1.481910</td>\n",
              "      <td>1.481836</td>\n",
              "      <td>1.481763</td>\n",
              "      <td>0.0</td>\n",
              "      <td>0.0</td>\n",
              "      <td>0.0</td>\n",
              "    </tr>\n",
              "    <tr>\n",
              "      <th>81718</th>\n",
              "      <td>urea</td>\n",
              "      <td>0.9916</td>\n",
              "      <td>0.9992</td>\n",
              "      <td>1.0070</td>\n",
              "      <td>1.481693</td>\n",
              "      <td>1.481623</td>\n",
              "      <td>1.481554</td>\n",
              "      <td>0.0</td>\n",
              "      <td>0.0</td>\n",
              "      <td>0.0</td>\n",
              "    </tr>\n",
              "    <tr>\n",
              "      <th>81719</th>\n",
              "      <td>urea</td>\n",
              "      <td>1.0140</td>\n",
              "      <td>1.0220</td>\n",
              "      <td>1.0300</td>\n",
              "      <td>1.481493</td>\n",
              "      <td>1.481426</td>\n",
              "      <td>1.481359</td>\n",
              "      <td>0.0</td>\n",
              "      <td>0.0</td>\n",
              "      <td>0.0</td>\n",
              "    </tr>\n",
              "    <tr>\n",
              "      <th>81720</th>\n",
              "      <td>urea</td>\n",
              "      <td>1.0370</td>\n",
              "      <td>1.0450</td>\n",
              "      <td>1.0520</td>\n",
              "      <td>1.481303</td>\n",
              "      <td>1.481239</td>\n",
              "      <td>1.481185</td>\n",
              "      <td>0.0</td>\n",
              "      <td>0.0</td>\n",
              "      <td>0.0</td>\n",
              "    </tr>\n",
              "  </tbody>\n",
              "</table>\n",
              "</div>"
            ],
            "text/plain": [
              "       book      λ1      λ2      λ3  ...        n3   k1   k2   k3\n",
              "81716  urea  0.9460  0.9536  0.9612  ...  1.481986  0.0  0.0  0.0\n",
              "81717  urea  0.9688  0.9764  0.9840  ...  1.481763  0.0  0.0  0.0\n",
              "81718  urea  0.9916  0.9992  1.0070  ...  1.481554  0.0  0.0  0.0\n",
              "81719  urea  1.0140  1.0220  1.0300  ...  1.481359  0.0  0.0  0.0\n",
              "81720  urea  1.0370  1.0450  1.0520  ...  1.481185  0.0  0.0  0.0\n",
              "\n",
              "[5 rows x 10 columns]"
            ]
          },
          "metadata": {
            "tags": []
          },
          "execution_count": 37
        }
      ]
    },
    {
      "cell_type": "code",
      "metadata": {
        "id": "XuIY1DKg18G1"
      },
      "source": [
        "new_df.to_csv('new_organic_data10.csv',index=False)"
      ],
      "execution_count": null,
      "outputs": []
    },
    {
      "cell_type": "code",
      "metadata": {
        "id": "BEJQGwlg18KZ"
      },
      "source": [
        "new_data = pd.read_csv('new_organic_data10.csv')"
      ],
      "execution_count": null,
      "outputs": []
    },
    {
      "cell_type": "code",
      "metadata": {
        "colab": {
          "base_uri": "https://localhost:8080/"
        },
        "id": "tTWnjIfS18Nw",
        "outputId": "1a89f9f9-ef14-4dc0-a3f3-a6d99b4b498f"
      },
      "source": [
        "new_data.shape"
      ],
      "execution_count": null,
      "outputs": [
        {
          "output_type": "execute_result",
          "data": {
            "text/plain": [
              "(81721, 10)"
            ]
          },
          "metadata": {
            "tags": []
          },
          "execution_count": 47
        }
      ]
    },
    {
      "cell_type": "code",
      "metadata": {
        "colab": {
          "base_uri": "https://localhost:8080/"
        },
        "id": "Hp3wfqCl18Q4",
        "outputId": "04575978-9702-40bf-f6b8-024ffc21d217"
      },
      "source": [
        "new_data.isnull().sum()"
      ],
      "execution_count": null,
      "outputs": [
        {
          "output_type": "execute_result",
          "data": {
            "text/plain": [
              "book    0\n",
              "λ1      0\n",
              "λ2      0\n",
              "λ3      0\n",
              "n1      0\n",
              "n2      0\n",
              "n3      0\n",
              "k1      0\n",
              "k2      0\n",
              "k3      0\n",
              "dtype: int64"
            ]
          },
          "metadata": {
            "tags": []
          },
          "execution_count": 48
        }
      ]
    },
    {
      "cell_type": "markdown",
      "metadata": {
        "id": "OGhlUMpUxkrh"
      },
      "source": [
        "## Modelling and Evaluation"
      ]
    },
    {
      "cell_type": "code",
      "metadata": {
        "id": "WeLgCgsB18T-"
      },
      "source": [
        "new_df = new_data.copy()\n",
        "y = new_df['book']\n",
        "x = new_df.drop('book',axis=1)"
      ],
      "execution_count": null,
      "outputs": []
    },
    {
      "cell_type": "code",
      "metadata": {
        "id": "5qaWeTRH18XC"
      },
      "source": [
        "#split the data for training and testing\n",
        "from sklearn.metrics import accuracy_score,classification_report\n",
        "x_train,x_test,y_train,y_test = train_test_split(x,y,test_size = 0.25,random_state=42)"
      ],
      "execution_count": null,
      "outputs": []
    },
    {
      "cell_type": "code",
      "metadata": {
        "id": "sITwk9pl18ah"
      },
      "source": [
        "numeric_features = [ 'λ1','λ2','λ3','n1','n2','n3','k1','k2','k3']"
      ],
      "execution_count": null,
      "outputs": []
    },
    {
      "cell_type": "code",
      "metadata": {
        "id": "qw0TTxxJ18d1"
      },
      "source": [
        "#preprocessing and training pipeline with our own bins\n",
        "\n",
        "numeric_transformer = Pipeline(steps=[\n",
        "                                      ('scaler', StandardScaler())\n",
        "                                      ])\n",
        "\n",
        "# categorical_transformer = Pipeline(steps=[\n",
        "#                                           ('onehot',OneHotEncoder())\n",
        "#                                           ])\n",
        "\n",
        "preprocessor = ColumnTransformer(\n",
        "    transformers=[\n",
        "                  ('numeric', numeric_transformer, numeric_features),   #apply the transformation\n",
        "                  # ('category',categorical_transformer,cat_features)\n",
        "                  ]) \n",
        "\n",
        "pipeline = Pipeline(steps = [\n",
        "               ('preprocessor', preprocessor)\n",
        "              ,('regressor',RandomForestClassifier())\n",
        "           ])"
      ],
      "execution_count": null,
      "outputs": []
    },
    {
      "cell_type": "code",
      "metadata": {
        "colab": {
          "base_uri": "https://localhost:8080/"
        },
        "id": "QIla4WOkoo9w",
        "outputId": "1cc53bf5-d435-47b2-94bd-08acdb5ee8c7"
      },
      "source": [
        "rf_model = pipeline.fit(x_train, y_train)\n",
        "print (rf_model)"
      ],
      "execution_count": null,
      "outputs": [
        {
          "output_type": "stream",
          "text": [
            "Pipeline(memory=None,\n",
            "         steps=[('preprocessor',\n",
            "                 ColumnTransformer(n_jobs=None, remainder='drop',\n",
            "                                   sparse_threshold=0.3,\n",
            "                                   transformer_weights=None,\n",
            "                                   transformers=[('numeric',\n",
            "                                                  Pipeline(memory=None,\n",
            "                                                           steps=[('scaler',\n",
            "                                                                   StandardScaler(copy=True,\n",
            "                                                                                  with_mean=True,\n",
            "                                                                                  with_std=True))],\n",
            "                                                           verbose=False),\n",
            "                                                  ['λ1', 'λ2', 'λ3', 'n1', 'n2',\n",
            "                                                   'n3', 'k1', 'k2', 'k3'])],\n",
            "                                   verbose=False)),\n",
            "                ('regressor',\n",
            "                 RandomForestClassifier(bootstrap=True, ccp_alpha=0.0,\n",
            "                                        class_weight=None, criterion='gini',\n",
            "                                        max_depth=None, max_features='auto',\n",
            "                                        max_leaf_nodes=None, max_samples=None,\n",
            "                                        min_impurity_decrease=0.0,\n",
            "                                        min_impurity_split=None,\n",
            "                                        min_samples_leaf=1, min_samples_split=2,\n",
            "                                        min_weight_fraction_leaf=0.0,\n",
            "                                        n_estimators=100, n_jobs=None,\n",
            "                                        oob_score=False, random_state=None,\n",
            "                                        verbose=0, warm_start=False))],\n",
            "         verbose=False)\n"
          ],
          "name": "stdout"
        }
      ]
    },
    {
      "cell_type": "code",
      "metadata": {
        "colab": {
          "base_uri": "https://localhost:8080/"
        },
        "id": "rNfgyyA0pVG9",
        "outputId": "dece4999-5588-4aef-f13f-7c7cee4758d3"
      },
      "source": [
        "print(f'Training accuracy is : {rf_model.score(x_train,y_train)}')\n",
        "print(f'Testing accuracy is : {rf_model.score(x_test,y_test)}')"
      ],
      "execution_count": null,
      "outputs": [
        {
          "output_type": "stream",
          "text": [
            "Training accuracy is : 0.9968836678087779\n",
            "Testing accuracy is : 0.9048994175517596\n"
          ],
          "name": "stdout"
        }
      ]
    },
    {
      "cell_type": "code",
      "metadata": {
        "colab": {
          "base_uri": "https://localhost:8080/",
          "height": 390
        },
        "id": "gVJgOHDwqU7E",
        "outputId": "56ec8b30-1d23-488f-d663-f4499679a04f"
      },
      "source": [
        "plt.figure(figsize=(8,6))\n",
        "plt.bar(['Training','Testing'],[rf_model.score(x_train,y_train),rf_model.score(x_test,y_test)])\n",
        "plt.title('Training vs Testing Accuracy on new dataset')\n",
        "plt.yticks(np.arange(0,1.05,0.05))\n",
        "plt.ylabel('Accuracy')\n",
        "plt.show()"
      ],
      "execution_count": null,
      "outputs": [
        {
          "output_type": "display_data",
          "data": {
            "image/png": "[encoded data removed]",
            "text/plain": [
              "<Figure size 576x432 with 1 Axes>"
            ]
          },
          "metadata": {
            "tags": [],
            "needs_background": "light"
          }
        }
      ]
    },
    {
      "cell_type": "code",
      "metadata": {
        "colab": {
          "base_uri": "https://localhost:8080/"
        },
        "id": "pLOWhcyIq5Ws",
        "outputId": "a68e4077-33c9-45f4-dbdd-80dfd8f800b9"
      },
      "source": [
        "from sklearn.metrics import precision_score,recall_score,f1_score\n",
        "\n",
        "test_pred = rf_model.predict(x_test)\n",
        "print(f\"Precision score {precision_score(y_test,test_pred,average='weighted')}\")\n",
        "print(f\"Recall score {recall_score(y_test,test_pred,average='weighted')}\")\n",
        "print(f\"F1 score {f1_score(y_test,test_pred,average='weighted')}\")"
      ],
      "execution_count": null,
      "outputs": [
        {
          "output_type": "stream",
          "text": [
            "Precision score 0.9043874565092558\n",
            "Recall score 0.9048994175517596\n",
            "F1 score 0.9039526963316936\n"
          ],
          "name": "stdout"
        }
      ]
    },
    {
      "cell_type": "code",
      "metadata": {
        "colab": {
          "base_uri": "https://localhost:8080/",
          "height": 390
        },
        "id": "JxP3KVBquXk7",
        "outputId": "33f48018-28d4-4f4e-d32c-f6cda125198e"
      },
      "source": [
        "plt.figure(figsize=(8,6))\n",
        "\n",
        "plt.bar(['Precision','Recall','F1-Score'],\n",
        "        [precision_score(y_test,test_pred,average='weighted'),\n",
        "                                           recall_score(y_test,test_pred,average='weighted'),\n",
        "                                           f1_score(y_test,test_pred,average='weighted')])\n",
        "\n",
        "plt.title('Precision-Recall and F1-score on new dataset')\n",
        "plt.yticks(np.arange(0,1.05,0.05))\n",
        "plt.show()"
      ],
      "execution_count": null,
      "outputs": [
        {
          "output_type": "display_data",
          "data": {
            "image/png": "[encoded data removed]",
            "text/plain": [
              "<Figure size 576x432 with 1 Axes>"
            ]
          },
          "metadata": {
            "tags": [],
            "needs_background": "light"
          }
        }
      ]
    },
    {
      "cell_type": "code",
      "metadata": {
        "colab": {
          "base_uri": "https://localhost:8080/",
          "height": 110
        },
        "id": "EOkb4nV8w9q6",
        "outputId": "38d20fc3-3243-4546-9faf-b31f50c76d72"
      },
      "source": [
        "x_test[0:2]"
      ],
      "execution_count": null,
      "outputs": [
        {
          "output_type": "execute_result",
          "data": {
            "text/html": [
              "<div>\n",
              "<style scoped>\n",
              "    .dataframe tbody tr th:only-of-type {\n",
              "        vertical-align: middle;\n",
              "    }\n",
              "\n",
              "    .dataframe tbody tr th {\n",
              "        vertical-align: top;\n",
              "    }\n",
              "\n",
              "    .dataframe thead th {\n",
              "        text-align: right;\n",
              "    }\n",
              "</style>\n",
              "<table border=\"1\" class=\"dataframe\">\n",
              "  <thead>\n",
              "    <tr style=\"text-align: right;\">\n",
              "      <th></th>\n",
              "      <th>λ1</th>\n",
              "      <th>λ2</th>\n",
              "      <th>λ3</th>\n",
              "      <th>n1</th>\n",
              "      <th>n2</th>\n",
              "      <th>n3</th>\n",
              "      <th>k1</th>\n",
              "      <th>k2</th>\n",
              "      <th>k3</th>\n",
              "    </tr>\n",
              "  </thead>\n",
              "  <tbody>\n",
              "    <tr>\n",
              "      <th>80566</th>\n",
              "      <td>5.06498</td>\n",
              "      <td>5.06621</td>\n",
              "      <td>5.06745</td>\n",
              "      <td>1.54039</td>\n",
              "      <td>1.54037</td>\n",
              "      <td>1.54037</td>\n",
              "      <td>0.000117</td>\n",
              "      <td>0.000118</td>\n",
              "      <td>0.000119</td>\n",
              "    </tr>\n",
              "    <tr>\n",
              "      <th>11541</th>\n",
              "      <td>1.40134</td>\n",
              "      <td>1.40144</td>\n",
              "      <td>1.40153</td>\n",
              "      <td>1.47777</td>\n",
              "      <td>1.47777</td>\n",
              "      <td>1.47777</td>\n",
              "      <td>0.000021</td>\n",
              "      <td>0.000020</td>\n",
              "      <td>0.000020</td>\n",
              "    </tr>\n",
              "  </tbody>\n",
              "</table>\n",
              "</div>"
            ],
            "text/plain": [
              "            λ1       λ2       λ3  ...        k1        k2        k3\n",
              "80566  5.06498  5.06621  5.06745  ...  0.000117  0.000118  0.000119\n",
              "11541  1.40134  1.40144  1.40153  ...  0.000021  0.000020  0.000020\n",
              "\n",
              "[2 rows x 9 columns]"
            ]
          },
          "metadata": {
            "tags": []
          },
          "execution_count": 58
        }
      ]
    },
    {
      "cell_type": "code",
      "metadata": {
        "colab": {
          "base_uri": "https://localhost:8080/"
        },
        "id": "CHwD7HV3xKpW",
        "outputId": "e716066c-0e98-4d05-accc-df3299adc1f4"
      },
      "source": [
        "y_test[0:2]"
      ],
      "execution_count": null,
      "outputs": [
        {
          "output_type": "execute_result",
          "data": {
            "text/plain": [
              "80566    trichlorobenzene\n",
              "11541             benzene\n",
              "Name: book, dtype: object"
            ]
          },
          "metadata": {
            "tags": []
          },
          "execution_count": 59
        }
      ]
    },
    {
      "cell_type": "code",
      "metadata": {
        "colab": {
          "base_uri": "https://localhost:8080/"
        },
        "id": "F2A8DNCKxbCZ",
        "outputId": "468a3a52-94c5-46a2-f51b-8f8b0e920c88"
      },
      "source": [
        "rf_model.predict(x_test[0:2])"
      ],
      "execution_count": null,
      "outputs": [
        {
          "output_type": "execute_result",
          "data": {
            "text/plain": [
              "array(['trichlorobenzene', 'benzene'], dtype=object)"
            ]
          },
          "metadata": {
            "tags": []
          },
          "execution_count": 60
        }
      ]
    },
    {
      "cell_type": "code",
      "metadata": {
        "id": "DAIoLUG4xgn-"
      },
      "source": [
        ""
      ],
      "execution_count": null,
      "outputs": []
    }
  ]
}