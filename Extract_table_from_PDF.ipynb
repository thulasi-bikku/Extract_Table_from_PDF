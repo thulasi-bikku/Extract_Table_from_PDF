{
  "nbformat": 4,
  "nbformat_minor": 0,
  "metadata": {
    "colab": {
      "name": "PDF_Table_Extraction (1).ipynb",
      "provenance": [],
      "collapsed_sections": [],
      "toc_visible": true
    },
    "kernelspec": {
      "display_name": "Python 3",
      "language": "python",
      "name": "python3"
    },
    "language_info": {
      "codemirror_mode": {
        "name": "ipython",
        "version": 3
      },
      "file_extension": ".py",
      "mimetype": "text/x-python",
      "name": "python",
      "nbconvert_exporter": "python",
      "pygments_lexer": "ipython3",
      "version": "3.8.3"
    }
  },
  "cells": [
    {
      "cell_type": "code",
      "metadata": {
        "colab": {
          "base_uri": "https://localhost:8080/"
        },
        "id": "fdzswmZzGsBY",
        "outputId": "68518ba8-1582-4d27-f296-73f91f03eb4d"
      },
      "source": [
        "!pip install tabula-py"
      ],
      "execution_count": 1,
      "outputs": [
        {
          "output_type": "stream",
          "text": [
            "Collecting tabula-py\n",
            "\u001b[?25l  Downloading https://files.pythonhosted.org/packages/cf/29/d6cb0d77ef46d84d35cffa09cf42c73b373aea664d28604eab6818f8a47c/tabula_py-2.2.0-py3-none-any.whl (11.7MB)\n",
            "\u001b[K     |████████████████████████████████| 11.7MB 4.3MB/s \n",
            "\u001b[?25hRequirement already satisfied: pandas>=0.25.3 in /usr/local/lib/python3.7/dist-packages (from tabula-py) (1.1.5)\n",
            "Collecting distro\n",
            "  Downloading https://files.pythonhosted.org/packages/25/b7/b3c4270a11414cb22c6352ebc7a83aaa3712043be29daa05018fd5a5c956/distro-1.5.0-py2.py3-none-any.whl\n",
            "Requirement already satisfied: numpy in /usr/local/lib/python3.7/dist-packages (from tabula-py) (1.19.5)\n",
            "Requirement already satisfied: pytz>=2017.2 in /usr/local/lib/python3.7/dist-packages (from pandas>=0.25.3->tabula-py) (2018.9)\n",
            "Requirement already satisfied: python-dateutil>=2.7.3 in /usr/local/lib/python3.7/dist-packages (from pandas>=0.25.3->tabula-py) (2.8.1)\n",
            "Requirement already satisfied: six>=1.5 in /usr/local/lib/python3.7/dist-packages (from python-dateutil>=2.7.3->pandas>=0.25.3->tabula-py) (1.15.0)\n",
            "Installing collected packages: distro, tabula-py\n",
            "Successfully installed distro-1.5.0 tabula-py-2.2.0\n"
          ],
          "name": "stdout"
        }
      ]
    },
    {
      "cell_type": "code",
      "metadata": {
        "id": "j1m8cEqFG1A_"
      },
      "source": [
        "import tabula"
      ],
      "execution_count": 3,
      "outputs": []
    },
    {
      "cell_type": "code",
      "metadata": {
        "colab": {
          "base_uri": "https://localhost:8080/"
        },
        "id": "Be1-TiWNHTn5",
        "outputId": "2e72b02e-c169-4e73-c70b-f615f99dfcda"
      },
      "source": [
        "file = \"/content/sample.pdf\"\n",
        "table = tabula.read_pdf(file,pages=\"all\")\n",
        "table"
      ],
      "execution_count": 4,
      "outputs": [
        {
          "output_type": "stream",
          "text": [
            "Got stderr: May 21, 2021 7:28:46 AM org.apache.pdfbox.pdmodel.font.FileSystemFontProvider loadDiskCache\n",
            "WARNING: New fonts found, font cache will be re-built\n",
            "May 21, 2021 7:28:46 AM org.apache.pdfbox.pdmodel.font.FileSystemFontProvider <init>\n",
            "WARNING: Building on-disk font cache, this may take a while\n",
            "May 21, 2021 7:28:46 AM org.apache.pdfbox.pdmodel.font.FileSystemFontProvider <init>\n",
            "WARNING: Finished building on-disk font cache, found 17 fonts\n",
            "May 21, 2021 7:28:46 AM org.apache.pdfbox.pdmodel.font.PDType1Font <init>\n",
            "WARNING: Using fallback font LiberationSans for base font Symbol\n",
            "May 21, 2021 7:28:46 AM org.apache.pdfbox.pdmodel.font.PDType1Font <init>\n",
            "WARNING: Using fallback font LiberationSans for base font ZapfDingbats\n",
            "May 21, 2021 7:28:47 AM org.apache.pdfbox.pdmodel.font.PDSimpleFont toUnicode\n",
            "WARNING: No Unicode mapping for gid00030 (1) in font MCBCCI+SourceSansRoman-Regular\n",
            "May 21, 2021 7:28:47 AM org.apache.pdfbox.pdmodel.font.PDSimpleFont toUnicode\n",
            "WARNING: No Unicode mapping for gid00035 (2) in font MCBCCI+SourceSansRoman-Regular\n",
            "May 21, 2021 7:28:47 AM org.apache.pdfbox.pdmodel.font.PDSimpleFont toUnicode\n",
            "WARNING: No Unicode mapping for gid00032 (3) in font MCBCCI+SourceSansRoman-Regular\n",
            "May 21, 2021 7:28:47 AM org.apache.pdfbox.pdmodel.font.PDSimpleFont toUnicode\n",
            "WARNING: No Unicode mapping for gid00038 (4) in font MCBCCI+SourceSansRoman-Regular\n",
            "May 21, 2021 7:28:47 AM org.apache.pdfbox.pdmodel.font.PDSimpleFont toUnicode\n",
            "WARNING: No Unicode mapping for gid00001 (5) in font MCBCCI+SourceSansRoman-Regular\n",
            "May 21, 2021 7:28:47 AM org.apache.pdfbox.pdmodel.font.PDSimpleFont toUnicode\n",
            "WARNING: No Unicode mapping for gid00033 (6) in font MCBCCI+SourceSansRoman-Regular\n",
            "May 21, 2021 7:28:47 AM org.apache.pdfbox.pdmodel.font.PDSimpleFont toUnicode\n",
            "WARNING: No Unicode mapping for gid00042 (7) in font MCBCCI+SourceSansRoman-Regular\n",
            "May 21, 2021 7:28:47 AM org.apache.pdfbox.pdmodel.font.PDSimpleFont toUnicode\n",
            "WARNING: No Unicode mapping for gid00045 (8) in font MCBCCI+SourceSansRoman-Regular\n",
            "May 21, 2021 7:28:47 AM org.apache.pdfbox.pdmodel.font.PDSimpleFont toUnicode\n",
            "WARNING: No Unicode mapping for gid00001 (1) in font MCBCCM+SourceSansRoman.613wght\n",
            "May 21, 2021 7:28:47 AM org.apache.pdfbox.pdmodel.font.PDSimpleFont toUnicode\n",
            "WARNING: No Unicode mapping for gid00048 (1) in font MCBCCO+SourceSansRoman-Bold\n",
            "May 21, 2021 7:28:47 AM org.apache.pdfbox.pdmodel.font.PDSimpleFont toUnicode\n",
            "WARNING: No Unicode mapping for gid00043 (2) in font MCBCCO+SourceSansRoman-Bold\n",
            "May 21, 2021 7:28:47 AM org.apache.pdfbox.pdmodel.font.PDSimpleFont toUnicode\n",
            "WARNING: No Unicode mapping for gid00031 (3) in font MCBCCO+SourceSansRoman-Bold\n",
            "May 21, 2021 7:28:47 AM org.apache.pdfbox.pdmodel.font.PDSimpleFont toUnicode\n",
            "WARNING: No Unicode mapping for gid00028 (4) in font MCBCCO+SourceSansRoman-Bold\n",
            "May 21, 2021 7:28:47 AM org.apache.pdfbox.pdmodel.font.PDSimpleFont toUnicode\n",
            "WARNING: No Unicode mapping for gid00047 (5) in font MCBCCO+SourceSansRoman-Bold\n",
            "May 21, 2021 7:28:47 AM org.apache.pdfbox.pdmodel.font.PDSimpleFont toUnicode\n",
            "WARNING: No Unicode mapping for gid00032 (6) in font MCBCCO+SourceSansRoman-Bold\n",
            "May 21, 2021 7:28:47 AM org.apache.pdfbox.pdmodel.font.PDSimpleFont toUnicode\n",
            "WARNING: No Unicode mapping for gid00046 (7) in font MCBCCO+SourceSansRoman-Bold\n",
            "May 21, 2021 7:28:50 AM org.apache.pdfbox.pdmodel.font.PDSimpleFont toUnicode\n",
            "WARNING: No Unicode mapping for gid00030 (1) in font MCBCCI+SourceSansRoman-Regular\n",
            "May 21, 2021 7:28:50 AM org.apache.pdfbox.pdmodel.font.PDSimpleFont toUnicode\n",
            "WARNING: No Unicode mapping for gid00035 (2) in font MCBCCI+SourceSansRoman-Regular\n",
            "May 21, 2021 7:28:50 AM org.apache.pdfbox.pdmodel.font.PDSimpleFont toUnicode\n",
            "WARNING: No Unicode mapping for gid00032 (3) in font MCBCCI+SourceSansRoman-Regular\n",
            "May 21, 2021 7:28:50 AM org.apache.pdfbox.pdmodel.font.PDSimpleFont toUnicode\n",
            "WARNING: No Unicode mapping for gid00038 (4) in font MCBCCI+SourceSansRoman-Regular\n",
            "May 21, 2021 7:28:50 AM org.apache.pdfbox.pdmodel.font.PDSimpleFont toUnicode\n",
            "WARNING: No Unicode mapping for gid00001 (5) in font MCBCCI+SourceSansRoman-Regular\n",
            "May 21, 2021 7:28:50 AM org.apache.pdfbox.pdmodel.font.PDSimpleFont toUnicode\n",
            "WARNING: No Unicode mapping for gid00033 (6) in font MCBCCI+SourceSansRoman-Regular\n",
            "May 21, 2021 7:28:50 AM org.apache.pdfbox.pdmodel.font.PDSimpleFont toUnicode\n",
            "WARNING: No Unicode mapping for gid00042 (7) in font MCBCCI+SourceSansRoman-Regular\n",
            "May 21, 2021 7:28:50 AM org.apache.pdfbox.pdmodel.font.PDSimpleFont toUnicode\n",
            "WARNING: No Unicode mapping for gid00045 (8) in font MCBCCI+SourceSansRoman-Regular\n",
            "May 21, 2021 7:28:50 AM org.apache.pdfbox.pdmodel.font.PDSimpleFont toUnicode\n",
            "WARNING: No Unicode mapping for gid00001 (1) in font MCBCCM+SourceSansRoman.613wght\n",
            "May 21, 2021 7:28:50 AM org.apache.pdfbox.pdmodel.font.PDSimpleFont toUnicode\n",
            "WARNING: No Unicode mapping for gid00048 (1) in font MCBCCO+SourceSansRoman-Bold\n",
            "May 21, 2021 7:28:50 AM org.apache.pdfbox.pdmodel.font.PDSimpleFont toUnicode\n",
            "WARNING: No Unicode mapping for gid00043 (2) in font MCBCCO+SourceSansRoman-Bold\n",
            "May 21, 2021 7:28:50 AM org.apache.pdfbox.pdmodel.font.PDSimpleFont toUnicode\n",
            "WARNING: No Unicode mapping for gid00031 (3) in font MCBCCO+SourceSansRoman-Bold\n",
            "May 21, 2021 7:28:50 AM org.apache.pdfbox.pdmodel.font.PDSimpleFont toUnicode\n",
            "WARNING: No Unicode mapping for gid00028 (4) in font MCBCCO+SourceSansRoman-Bold\n",
            "May 21, 2021 7:28:50 AM org.apache.pdfbox.pdmodel.font.PDSimpleFont toUnicode\n",
            "WARNING: No Unicode mapping for gid00047 (5) in font MCBCCO+SourceSansRoman-Bold\n",
            "May 21, 2021 7:28:50 AM org.apache.pdfbox.pdmodel.font.PDSimpleFont toUnicode\n",
            "WARNING: No Unicode mapping for gid00032 (6) in font MCBCCO+SourceSansRoman-Bold\n",
            "May 21, 2021 7:28:50 AM org.apache.pdfbox.pdmodel.font.PDSimpleFont toUnicode\n",
            "WARNING: No Unicode mapping for gid00046 (7) in font MCBCCO+SourceSansRoman-Bold\n",
            "May 21, 2021 7:28:51 AM org.apache.pdfbox.pdmodel.font.PDSimpleFont toUnicode\n",
            "WARNING: No Unicode mapping for circlemultiplytext (78) in font RCFCDX+CMEX10\n",
            "May 21, 2021 7:28:55 AM org.apache.pdfbox.pdmodel.font.PDSimpleFont toUnicode\n",
            "WARNING: No Unicode mapping for circlecopyrt (13) in font WEIJUK+CMSY9\n",
            "\n"
          ],
          "name": "stderr"
        },
        {
          "output_type": "execute_result",
          "data": {
            "text/plain": [
              "[    Datasets  Classes  Sentence Length  ...  Training Set Validation Set  Test Set\n",
              " 0        TCM        5              428  ...          3789           1082       541\n",
              " 1       CCKS        4               73  ...           280             80        40\n",
              " 2  Hallmarks        3              833  ...          5931           1694       847\n",
              " 3        AIM        2              833  ...          1853            529       264\n",
              " \n",
              " [4 rows x 8 columns],                Methods    TCM   CCKS    AIM  Hallmarks\n",
              " 0                  CNN  73.17  89.37  95.47      70.85\n",
              " 1                 LSTM  60.00  80.62  57.36      72.73\n",
              " 2                 RCNN  62.03  84.38  96.06      74.76\n",
              " 3                  HAN  76.62  88.75  97.30      74.70\n",
              " 4                  SVM  48.78  53.00  89.93      70.34\n",
              " 5             Fasttext  80.00  75.01  90.28      80.45\n",
              " 6  Logistic Regression  56.50  73.12  89.84      74.24\n",
              " 7            AC-BiLSTM  80.51  88.12  97.92      74.97\n",
              " 8           Our method  89.09  93.75  97.73      75.72,       3. Kaurova, O.; Alexandrov, M.; Blanco, X. Classification of free text clinical narratives (short review). Bus. Eng.\n",
              " 0    NaN      Appll. Intell. Inf. Syst. 2011, 124, 255–266.                                                               \n",
              " 1    4.0  Hoang, N.; Patrick, J. Text Mining in Clinical...                                                               \n",
              " 2    NaN  SIGKDD International Conference on Knowledge D...                                                               \n",
              " 3    NaN                    13–17 August 2016; pp. 549–558.                                                               \n",
              " 4    5.0  Huang, K.; Altosaar, J.; Ranganath, R. Clinica...                                                               \n",
              " 5    NaN       Readmission. Inf. Sci. 2019, 394–395, 38–52.                                                               \n",
              " 6    6.0  Chung, J.; Gülçehre, Ç.; Cho, K.; Bengio, Y. E...                                                               \n",
              " 7    NaN  sequence modeling. In Proceedings of the NIPS ...                                                               \n",
              " 8    NaN   Montreal, QC, Canada, 12 December 2014; pp. 1–9.                                                               \n",
              " 9    7.0  Hochreiter, S.; Schmidhuber, J. Long short-ter...                                                               \n",
              " 10   NaN                                           [PubMed]                                                               \n",
              " 11   8.0  Wallach, H.M. Topic modeling: Beyond bag-of-wo...                                                               \n",
              " 12   NaN  on Machine Learning, Pittsburgh, PA, USA, 25–2...                                                               \n",
              " 13   9.0  Yoon, K. Convolutional Neural Networks for Sen...                                                               \n",
              " 14   NaN  on Empirical Methods in Natural Language Proce...                                                               \n",
              " 15  10.0  Johnson, R.; Tong, Z. Effective Use of Word Or...                                                               ]"
            ]
          },
          "metadata": {
            "tags": []
          },
          "execution_count": 4
        }
      ]
    },
    {
      "cell_type": "code",
      "metadata": {
        "colab": {
          "base_uri": "https://localhost:8080/"
        },
        "id": "mAof3yiyPpuq",
        "outputId": "8b6e2ee4-c5b8-4417-dfd2-1e60095c36c4"
      },
      "source": [
        "type(table)"
      ],
      "execution_count": 9,
      "outputs": [
        {
          "output_type": "execute_result",
          "data": {
            "text/plain": [
              "list"
            ]
          },
          "metadata": {
            "tags": []
          },
          "execution_count": 9
        }
      ]
    },
    {
      "cell_type": "code",
      "metadata": {
        "colab": {
          "base_uri": "https://localhost:8080/"
        },
        "id": "nFWHEOsW7r6f",
        "outputId": "eaf2ec3f-12ee-4f28-eb0b-c9be7f1d9ccb"
      },
      "source": [
        "len(table)"
      ],
      "execution_count": 10,
      "outputs": [
        {
          "output_type": "execute_result",
          "data": {
            "text/plain": [
              "3"
            ]
          },
          "metadata": {
            "tags": []
          },
          "execution_count": 10
        }
      ]
    },
    {
      "cell_type": "code",
      "metadata": {
        "colab": {
          "base_uri": "https://localhost:8080/",
          "height": 166
        },
        "id": "Dw8SCgLw7wa8",
        "outputId": "93632110-6531-49fc-de11-5a3105eb3d95"
      },
      "source": [
        "table[0]"
      ],
      "execution_count": 11,
      "outputs": [
        {
          "output_type": "execute_result",
          "data": {
            "text/html": [
              "<div>\n",
              "<style scoped>\n",
              "    .dataframe tbody tr th:only-of-type {\n",
              "        vertical-align: middle;\n",
              "    }\n",
              "\n",
              "    .dataframe tbody tr th {\n",
              "        vertical-align: top;\n",
              "    }\n",
              "\n",
              "    .dataframe thead th {\n",
              "        text-align: right;\n",
              "    }\n",
              "</style>\n",
              "<table border=\"1\" class=\"dataframe\">\n",
              "  <thead>\n",
              "    <tr style=\"text-align: right;\">\n",
              "      <th></th>\n",
              "      <th>Datasets</th>\n",
              "      <th>Classes</th>\n",
              "      <th>Sentence Length</th>\n",
              "      <th>Dataset Size</th>\n",
              "      <th>Vocab Size</th>\n",
              "      <th>Training Set</th>\n",
              "      <th>Validation Set</th>\n",
              "      <th>Test Set</th>\n",
              "    </tr>\n",
              "  </thead>\n",
              "  <tbody>\n",
              "    <tr>\n",
              "      <th>0</th>\n",
              "      <td>TCM</td>\n",
              "      <td>5</td>\n",
              "      <td>428</td>\n",
              "      <td>5413</td>\n",
              "      <td>99,243</td>\n",
              "      <td>3789</td>\n",
              "      <td>1082</td>\n",
              "      <td>541</td>\n",
              "    </tr>\n",
              "    <tr>\n",
              "      <th>1</th>\n",
              "      <td>CCKS</td>\n",
              "      <td>4</td>\n",
              "      <td>73</td>\n",
              "      <td>400</td>\n",
              "      <td>2980</td>\n",
              "      <td>280</td>\n",
              "      <td>80</td>\n",
              "      <td>40</td>\n",
              "    </tr>\n",
              "    <tr>\n",
              "      <th>2</th>\n",
              "      <td>Hallmarks</td>\n",
              "      <td>3</td>\n",
              "      <td>833</td>\n",
              "      <td>8474</td>\n",
              "      <td>29,141</td>\n",
              "      <td>5931</td>\n",
              "      <td>1694</td>\n",
              "      <td>847</td>\n",
              "    </tr>\n",
              "    <tr>\n",
              "      <th>3</th>\n",
              "      <td>AIM</td>\n",
              "      <td>2</td>\n",
              "      <td>833</td>\n",
              "      <td>2648</td>\n",
              "      <td>29,141</td>\n",
              "      <td>1853</td>\n",
              "      <td>529</td>\n",
              "      <td>264</td>\n",
              "    </tr>\n",
              "  </tbody>\n",
              "</table>\n",
              "</div>"
            ],
            "text/plain": [
              "    Datasets  Classes  Sentence Length  ...  Training Set Validation Set  Test Set\n",
              "0        TCM        5              428  ...          3789           1082       541\n",
              "1       CCKS        4               73  ...           280             80        40\n",
              "2  Hallmarks        3              833  ...          5931           1694       847\n",
              "3        AIM        2              833  ...          1853            529       264\n",
              "\n",
              "[4 rows x 8 columns]"
            ]
          },
          "metadata": {
            "tags": []
          },
          "execution_count": 11
        }
      ]
    },
    {
      "cell_type": "code",
      "metadata": {
        "colab": {
          "base_uri": "https://localhost:8080/",
          "height": 314
        },
        "id": "mkI8GrOb7zZ5",
        "outputId": "e9959e88-1a2c-4463-edf4-fac16682e35c"
      },
      "source": [
        "table[1]"
      ],
      "execution_count": 12,
      "outputs": [
        {
          "output_type": "execute_result",
          "data": {
            "text/html": [
              "<div>\n",
              "<style scoped>\n",
              "    .dataframe tbody tr th:only-of-type {\n",
              "        vertical-align: middle;\n",
              "    }\n",
              "\n",
              "    .dataframe tbody tr th {\n",
              "        vertical-align: top;\n",
              "    }\n",
              "\n",
              "    .dataframe thead th {\n",
              "        text-align: right;\n",
              "    }\n",
              "</style>\n",
              "<table border=\"1\" class=\"dataframe\">\n",
              "  <thead>\n",
              "    <tr style=\"text-align: right;\">\n",
              "      <th></th>\n",
              "      <th>Methods</th>\n",
              "      <th>TCM</th>\n",
              "      <th>CCKS</th>\n",
              "      <th>AIM</th>\n",
              "      <th>Hallmarks</th>\n",
              "    </tr>\n",
              "  </thead>\n",
              "  <tbody>\n",
              "    <tr>\n",
              "      <th>0</th>\n",
              "      <td>CNN</td>\n",
              "      <td>73.17</td>\n",
              "      <td>89.37</td>\n",
              "      <td>95.47</td>\n",
              "      <td>70.85</td>\n",
              "    </tr>\n",
              "    <tr>\n",
              "      <th>1</th>\n",
              "      <td>LSTM</td>\n",
              "      <td>60.00</td>\n",
              "      <td>80.62</td>\n",
              "      <td>57.36</td>\n",
              "      <td>72.73</td>\n",
              "    </tr>\n",
              "    <tr>\n",
              "      <th>2</th>\n",
              "      <td>RCNN</td>\n",
              "      <td>62.03</td>\n",
              "      <td>84.38</td>\n",
              "      <td>96.06</td>\n",
              "      <td>74.76</td>\n",
              "    </tr>\n",
              "    <tr>\n",
              "      <th>3</th>\n",
              "      <td>HAN</td>\n",
              "      <td>76.62</td>\n",
              "      <td>88.75</td>\n",
              "      <td>97.30</td>\n",
              "      <td>74.70</td>\n",
              "    </tr>\n",
              "    <tr>\n",
              "      <th>4</th>\n",
              "      <td>SVM</td>\n",
              "      <td>48.78</td>\n",
              "      <td>53.00</td>\n",
              "      <td>89.93</td>\n",
              "      <td>70.34</td>\n",
              "    </tr>\n",
              "    <tr>\n",
              "      <th>5</th>\n",
              "      <td>Fasttext</td>\n",
              "      <td>80.00</td>\n",
              "      <td>75.01</td>\n",
              "      <td>90.28</td>\n",
              "      <td>80.45</td>\n",
              "    </tr>\n",
              "    <tr>\n",
              "      <th>6</th>\n",
              "      <td>Logistic Regression</td>\n",
              "      <td>56.50</td>\n",
              "      <td>73.12</td>\n",
              "      <td>89.84</td>\n",
              "      <td>74.24</td>\n",
              "    </tr>\n",
              "    <tr>\n",
              "      <th>7</th>\n",
              "      <td>AC-BiLSTM</td>\n",
              "      <td>80.51</td>\n",
              "      <td>88.12</td>\n",
              "      <td>97.92</td>\n",
              "      <td>74.97</td>\n",
              "    </tr>\n",
              "    <tr>\n",
              "      <th>8</th>\n",
              "      <td>Our method</td>\n",
              "      <td>89.09</td>\n",
              "      <td>93.75</td>\n",
              "      <td>97.73</td>\n",
              "      <td>75.72</td>\n",
              "    </tr>\n",
              "  </tbody>\n",
              "</table>\n",
              "</div>"
            ],
            "text/plain": [
              "               Methods    TCM   CCKS    AIM  Hallmarks\n",
              "0                  CNN  73.17  89.37  95.47      70.85\n",
              "1                 LSTM  60.00  80.62  57.36      72.73\n",
              "2                 RCNN  62.03  84.38  96.06      74.76\n",
              "3                  HAN  76.62  88.75  97.30      74.70\n",
              "4                  SVM  48.78  53.00  89.93      70.34\n",
              "5             Fasttext  80.00  75.01  90.28      80.45\n",
              "6  Logistic Regression  56.50  73.12  89.84      74.24\n",
              "7            AC-BiLSTM  80.51  88.12  97.92      74.97\n",
              "8           Our method  89.09  93.75  97.73      75.72"
            ]
          },
          "metadata": {
            "tags": []
          },
          "execution_count": 12
        }
      ]
    },
    {
      "cell_type": "code",
      "metadata": {
        "colab": {
          "base_uri": "https://localhost:8080/",
          "height": 521
        },
        "id": "m-gh5o_Q72qY",
        "outputId": "9b61a5dd-bd55-42f1-9fac-64d587f31869"
      },
      "source": [
        "table[2]"
      ],
      "execution_count": 13,
      "outputs": [
        {
          "output_type": "execute_result",
          "data": {
            "text/html": [
              "<div>\n",
              "<style scoped>\n",
              "    .dataframe tbody tr th:only-of-type {\n",
              "        vertical-align: middle;\n",
              "    }\n",
              "\n",
              "    .dataframe tbody tr th {\n",
              "        vertical-align: top;\n",
              "    }\n",
              "\n",
              "    .dataframe thead th {\n",
              "        text-align: right;\n",
              "    }\n",
              "</style>\n",
              "<table border=\"1\" class=\"dataframe\">\n",
              "  <thead>\n",
              "    <tr style=\"text-align: right;\">\n",
              "      <th></th>\n",
              "      <th>3.</th>\n",
              "      <th>Kaurova, O.; Alexandrov, M.; Blanco, X. Classification of free text clinical narratives (short review). Bus. Eng.</th>\n",
              "    </tr>\n",
              "  </thead>\n",
              "  <tbody>\n",
              "    <tr>\n",
              "      <th>0</th>\n",
              "      <td>NaN</td>\n",
              "      <td>Appll. Intell. Inf. Syst. 2011, 124, 255–266.</td>\n",
              "    </tr>\n",
              "    <tr>\n",
              "      <th>1</th>\n",
              "      <td>4.0</td>\n",
              "      <td>Hoang, N.; Patrick, J. Text Mining in Clinical...</td>\n",
              "    </tr>\n",
              "    <tr>\n",
              "      <th>2</th>\n",
              "      <td>NaN</td>\n",
              "      <td>SIGKDD International Conference on Knowledge D...</td>\n",
              "    </tr>\n",
              "    <tr>\n",
              "      <th>3</th>\n",
              "      <td>NaN</td>\n",
              "      <td>13–17 August 2016; pp. 549–558.</td>\n",
              "    </tr>\n",
              "    <tr>\n",
              "      <th>4</th>\n",
              "      <td>5.0</td>\n",
              "      <td>Huang, K.; Altosaar, J.; Ranganath, R. Clinica...</td>\n",
              "    </tr>\n",
              "    <tr>\n",
              "      <th>5</th>\n",
              "      <td>NaN</td>\n",
              "      <td>Readmission. Inf. Sci. 2019, 394–395, 38–52.</td>\n",
              "    </tr>\n",
              "    <tr>\n",
              "      <th>6</th>\n",
              "      <td>6.0</td>\n",
              "      <td>Chung, J.; Gülçehre, Ç.; Cho, K.; Bengio, Y. E...</td>\n",
              "    </tr>\n",
              "    <tr>\n",
              "      <th>7</th>\n",
              "      <td>NaN</td>\n",
              "      <td>sequence modeling. In Proceedings of the NIPS ...</td>\n",
              "    </tr>\n",
              "    <tr>\n",
              "      <th>8</th>\n",
              "      <td>NaN</td>\n",
              "      <td>Montreal, QC, Canada, 12 December 2014; pp. 1–9.</td>\n",
              "    </tr>\n",
              "    <tr>\n",
              "      <th>9</th>\n",
              "      <td>7.0</td>\n",
              "      <td>Hochreiter, S.; Schmidhuber, J. Long short-ter...</td>\n",
              "    </tr>\n",
              "    <tr>\n",
              "      <th>10</th>\n",
              "      <td>NaN</td>\n",
              "      <td>[PubMed]</td>\n",
              "    </tr>\n",
              "    <tr>\n",
              "      <th>11</th>\n",
              "      <td>8.0</td>\n",
              "      <td>Wallach, H.M. Topic modeling: Beyond bag-of-wo...</td>\n",
              "    </tr>\n",
              "    <tr>\n",
              "      <th>12</th>\n",
              "      <td>NaN</td>\n",
              "      <td>on Machine Learning, Pittsburgh, PA, USA, 25–2...</td>\n",
              "    </tr>\n",
              "    <tr>\n",
              "      <th>13</th>\n",
              "      <td>9.0</td>\n",
              "      <td>Yoon, K. Convolutional Neural Networks for Sen...</td>\n",
              "    </tr>\n",
              "    <tr>\n",
              "      <th>14</th>\n",
              "      <td>NaN</td>\n",
              "      <td>on Empirical Methods in Natural Language Proce...</td>\n",
              "    </tr>\n",
              "    <tr>\n",
              "      <th>15</th>\n",
              "      <td>10.0</td>\n",
              "      <td>Johnson, R.; Tong, Z. Effective Use of Word Or...</td>\n",
              "    </tr>\n",
              "  </tbody>\n",
              "</table>\n",
              "</div>"
            ],
            "text/plain": [
              "      3. Kaurova, O.; Alexandrov, M.; Blanco, X. Classification of free text clinical narratives (short review). Bus. Eng.\n",
              "0    NaN      Appll. Intell. Inf. Syst. 2011, 124, 255–266.                                                               \n",
              "1    4.0  Hoang, N.; Patrick, J. Text Mining in Clinical...                                                               \n",
              "2    NaN  SIGKDD International Conference on Knowledge D...                                                               \n",
              "3    NaN                    13–17 August 2016; pp. 549–558.                                                               \n",
              "4    5.0  Huang, K.; Altosaar, J.; Ranganath, R. Clinica...                                                               \n",
              "5    NaN       Readmission. Inf. Sci. 2019, 394–395, 38–52.                                                               \n",
              "6    6.0  Chung, J.; Gülçehre, Ç.; Cho, K.; Bengio, Y. E...                                                               \n",
              "7    NaN  sequence modeling. In Proceedings of the NIPS ...                                                               \n",
              "8    NaN   Montreal, QC, Canada, 12 December 2014; pp. 1–9.                                                               \n",
              "9    7.0  Hochreiter, S.; Schmidhuber, J. Long short-ter...                                                               \n",
              "10   NaN                                           [PubMed]                                                               \n",
              "11   8.0  Wallach, H.M. Topic modeling: Beyond bag-of-wo...                                                               \n",
              "12   NaN  on Machine Learning, Pittsburgh, PA, USA, 25–2...                                                               \n",
              "13   9.0  Yoon, K. Convolutional Neural Networks for Sen...                                                               \n",
              "14   NaN  on Empirical Methods in Natural Language Proce...                                                               \n",
              "15  10.0  Johnson, R.; Tong, Z. Effective Use of Word Or...                                                               "
            ]
          },
          "metadata": {
            "tags": []
          },
          "execution_count": 13
        }
      ]
    },
    {
      "cell_type": "code",
      "metadata": {
        "colab": {
          "base_uri": "https://localhost:8080/"
        },
        "id": "ksmLNNrv2cFS",
        "outputId": "0bc06c1b-4f7e-4fcd-d694-e771a260ff2e"
      },
      "source": [
        "import tabula\n",
        "\n",
        "# Read pdf into list of DataFrame\n",
        "df = tabula.read_pdf(\"sample.pdf\", pages='all')\n",
        "\n",
        "\n",
        "# convert PDF into CSV file\n",
        "tabula.convert_into(\"sample.pdf\", \"output.csv\", output_format=\"csv\", pages='all')"
      ],
      "execution_count": 16,
      "outputs": [
        {
          "output_type": "stream",
          "text": [
            "Got stderr: May 21, 2021 7:30:54 AM org.apache.pdfbox.pdmodel.font.PDType1Font <init>\n",
            "WARNING: Using fallback font LiberationSans for base font Symbol\n",
            "May 21, 2021 7:30:54 AM org.apache.pdfbox.pdmodel.font.PDType1Font <init>\n",
            "WARNING: Using fallback font LiberationSans for base font ZapfDingbats\n",
            "May 21, 2021 7:30:54 AM org.apache.pdfbox.pdmodel.font.PDSimpleFont toUnicode\n",
            "WARNING: No Unicode mapping for gid00030 (1) in font MCBCCI+SourceSansRoman-Regular\n",
            "May 21, 2021 7:30:54 AM org.apache.pdfbox.pdmodel.font.PDSimpleFont toUnicode\n",
            "WARNING: No Unicode mapping for gid00035 (2) in font MCBCCI+SourceSansRoman-Regular\n",
            "May 21, 2021 7:30:54 AM org.apache.pdfbox.pdmodel.font.PDSimpleFont toUnicode\n",
            "WARNING: No Unicode mapping for gid00032 (3) in font MCBCCI+SourceSansRoman-Regular\n",
            "May 21, 2021 7:30:54 AM org.apache.pdfbox.pdmodel.font.PDSimpleFont toUnicode\n",
            "WARNING: No Unicode mapping for gid00038 (4) in font MCBCCI+SourceSansRoman-Regular\n",
            "May 21, 2021 7:30:54 AM org.apache.pdfbox.pdmodel.font.PDSimpleFont toUnicode\n",
            "WARNING: No Unicode mapping for gid00001 (5) in font MCBCCI+SourceSansRoman-Regular\n",
            "May 21, 2021 7:30:54 AM org.apache.pdfbox.pdmodel.font.PDSimpleFont toUnicode\n",
            "WARNING: No Unicode mapping for gid00033 (6) in font MCBCCI+SourceSansRoman-Regular\n",
            "May 21, 2021 7:30:54 AM org.apache.pdfbox.pdmodel.font.PDSimpleFont toUnicode\n",
            "WARNING: No Unicode mapping for gid00042 (7) in font MCBCCI+SourceSansRoman-Regular\n",
            "May 21, 2021 7:30:54 AM org.apache.pdfbox.pdmodel.font.PDSimpleFont toUnicode\n",
            "WARNING: No Unicode mapping for gid00045 (8) in font MCBCCI+SourceSansRoman-Regular\n",
            "May 21, 2021 7:30:54 AM org.apache.pdfbox.pdmodel.font.PDSimpleFont toUnicode\n",
            "WARNING: No Unicode mapping for gid00001 (1) in font MCBCCM+SourceSansRoman.613wght\n",
            "May 21, 2021 7:30:54 AM org.apache.pdfbox.pdmodel.font.PDSimpleFont toUnicode\n",
            "WARNING: No Unicode mapping for gid00048 (1) in font MCBCCO+SourceSansRoman-Bold\n",
            "May 21, 2021 7:30:54 AM org.apache.pdfbox.pdmodel.font.PDSimpleFont toUnicode\n",
            "WARNING: No Unicode mapping for gid00043 (2) in font MCBCCO+SourceSansRoman-Bold\n",
            "May 21, 2021 7:30:54 AM org.apache.pdfbox.pdmodel.font.PDSimpleFont toUnicode\n",
            "WARNING: No Unicode mapping for gid00031 (3) in font MCBCCO+SourceSansRoman-Bold\n",
            "May 21, 2021 7:30:54 AM org.apache.pdfbox.pdmodel.font.PDSimpleFont toUnicode\n",
            "WARNING: No Unicode mapping for gid00028 (4) in font MCBCCO+SourceSansRoman-Bold\n",
            "May 21, 2021 7:30:54 AM org.apache.pdfbox.pdmodel.font.PDSimpleFont toUnicode\n",
            "WARNING: No Unicode mapping for gid00047 (5) in font MCBCCO+SourceSansRoman-Bold\n",
            "May 21, 2021 7:30:54 AM org.apache.pdfbox.pdmodel.font.PDSimpleFont toUnicode\n",
            "WARNING: No Unicode mapping for gid00032 (6) in font MCBCCO+SourceSansRoman-Bold\n",
            "May 21, 2021 7:30:54 AM org.apache.pdfbox.pdmodel.font.PDSimpleFont toUnicode\n",
            "WARNING: No Unicode mapping for gid00046 (7) in font MCBCCO+SourceSansRoman-Bold\n",
            "May 21, 2021 7:30:57 AM org.apache.pdfbox.pdmodel.font.PDSimpleFont toUnicode\n",
            "WARNING: No Unicode mapping for gid00030 (1) in font MCBCCI+SourceSansRoman-Regular\n",
            "May 21, 2021 7:30:57 AM org.apache.pdfbox.pdmodel.font.PDSimpleFont toUnicode\n",
            "WARNING: No Unicode mapping for gid00035 (2) in font MCBCCI+SourceSansRoman-Regular\n",
            "May 21, 2021 7:30:57 AM org.apache.pdfbox.pdmodel.font.PDSimpleFont toUnicode\n",
            "WARNING: No Unicode mapping for gid00032 (3) in font MCBCCI+SourceSansRoman-Regular\n",
            "May 21, 2021 7:30:57 AM org.apache.pdfbox.pdmodel.font.PDSimpleFont toUnicode\n",
            "WARNING: No Unicode mapping for gid00038 (4) in font MCBCCI+SourceSansRoman-Regular\n",
            "May 21, 2021 7:30:57 AM org.apache.pdfbox.pdmodel.font.PDSimpleFont toUnicode\n",
            "WARNING: No Unicode mapping for gid00001 (5) in font MCBCCI+SourceSansRoman-Regular\n",
            "May 21, 2021 7:30:57 AM org.apache.pdfbox.pdmodel.font.PDSimpleFont toUnicode\n",
            "WARNING: No Unicode mapping for gid00033 (6) in font MCBCCI+SourceSansRoman-Regular\n",
            "May 21, 2021 7:30:57 AM org.apache.pdfbox.pdmodel.font.PDSimpleFont toUnicode\n",
            "WARNING: No Unicode mapping for gid00042 (7) in font MCBCCI+SourceSansRoman-Regular\n",
            "May 21, 2021 7:30:57 AM org.apache.pdfbox.pdmodel.font.PDSimpleFont toUnicode\n",
            "WARNING: No Unicode mapping for gid00045 (8) in font MCBCCI+SourceSansRoman-Regular\n",
            "May 21, 2021 7:30:57 AM org.apache.pdfbox.pdmodel.font.PDSimpleFont toUnicode\n",
            "WARNING: No Unicode mapping for gid00001 (1) in font MCBCCM+SourceSansRoman.613wght\n",
            "May 21, 2021 7:30:57 AM org.apache.pdfbox.pdmodel.font.PDSimpleFont toUnicode\n",
            "WARNING: No Unicode mapping for gid00048 (1) in font MCBCCO+SourceSansRoman-Bold\n",
            "May 21, 2021 7:30:57 AM org.apache.pdfbox.pdmodel.font.PDSimpleFont toUnicode\n",
            "WARNING: No Unicode mapping for gid00043 (2) in font MCBCCO+SourceSansRoman-Bold\n",
            "May 21, 2021 7:30:57 AM org.apache.pdfbox.pdmodel.font.PDSimpleFont toUnicode\n",
            "WARNING: No Unicode mapping for gid00031 (3) in font MCBCCO+SourceSansRoman-Bold\n",
            "May 21, 2021 7:30:57 AM org.apache.pdfbox.pdmodel.font.PDSimpleFont toUnicode\n",
            "WARNING: No Unicode mapping for gid00028 (4) in font MCBCCO+SourceSansRoman-Bold\n",
            "May 21, 2021 7:30:57 AM org.apache.pdfbox.pdmodel.font.PDSimpleFont toUnicode\n",
            "WARNING: No Unicode mapping for gid00047 (5) in font MCBCCO+SourceSansRoman-Bold\n",
            "May 21, 2021 7:30:57 AM org.apache.pdfbox.pdmodel.font.PDSimpleFont toUnicode\n",
            "WARNING: No Unicode mapping for gid00032 (6) in font MCBCCO+SourceSansRoman-Bold\n",
            "May 21, 2021 7:30:57 AM org.apache.pdfbox.pdmodel.font.PDSimpleFont toUnicode\n",
            "WARNING: No Unicode mapping for gid00046 (7) in font MCBCCO+SourceSansRoman-Bold\n",
            "May 21, 2021 7:30:58 AM org.apache.pdfbox.pdmodel.font.PDSimpleFont toUnicode\n",
            "WARNING: No Unicode mapping for circlemultiplytext (78) in font RCFCDX+CMEX10\n",
            "May 21, 2021 7:31:02 AM org.apache.pdfbox.pdmodel.font.PDSimpleFont toUnicode\n",
            "WARNING: No Unicode mapping for circlecopyrt (13) in font WEIJUK+CMSY9\n",
            "\n",
            "Got stderr: May 21, 2021 7:31:04 AM org.apache.pdfbox.pdmodel.font.PDType1Font <init>\n",
            "WARNING: Using fallback font LiberationSans for base font Symbol\n",
            "May 21, 2021 7:31:04 AM org.apache.pdfbox.pdmodel.font.PDType1Font <init>\n",
            "WARNING: Using fallback font LiberationSans for base font ZapfDingbats\n",
            "May 21, 2021 7:31:04 AM org.apache.pdfbox.pdmodel.font.PDSimpleFont toUnicode\n",
            "WARNING: No Unicode mapping for gid00030 (1) in font MCBCCI+SourceSansRoman-Regular\n",
            "May 21, 2021 7:31:04 AM org.apache.pdfbox.pdmodel.font.PDSimpleFont toUnicode\n",
            "WARNING: No Unicode mapping for gid00035 (2) in font MCBCCI+SourceSansRoman-Regular\n",
            "May 21, 2021 7:31:04 AM org.apache.pdfbox.pdmodel.font.PDSimpleFont toUnicode\n",
            "WARNING: No Unicode mapping for gid00032 (3) in font MCBCCI+SourceSansRoman-Regular\n",
            "May 21, 2021 7:31:04 AM org.apache.pdfbox.pdmodel.font.PDSimpleFont toUnicode\n",
            "WARNING: No Unicode mapping for gid00038 (4) in font MCBCCI+SourceSansRoman-Regular\n",
            "May 21, 2021 7:31:04 AM org.apache.pdfbox.pdmodel.font.PDSimpleFont toUnicode\n",
            "WARNING: No Unicode mapping for gid00001 (5) in font MCBCCI+SourceSansRoman-Regular\n",
            "May 21, 2021 7:31:04 AM org.apache.pdfbox.pdmodel.font.PDSimpleFont toUnicode\n",
            "WARNING: No Unicode mapping for gid00033 (6) in font MCBCCI+SourceSansRoman-Regular\n",
            "May 21, 2021 7:31:04 AM org.apache.pdfbox.pdmodel.font.PDSimpleFont toUnicode\n",
            "WARNING: No Unicode mapping for gid00042 (7) in font MCBCCI+SourceSansRoman-Regular\n",
            "May 21, 2021 7:31:04 AM org.apache.pdfbox.pdmodel.font.PDSimpleFont toUnicode\n",
            "WARNING: No Unicode mapping for gid00045 (8) in font MCBCCI+SourceSansRoman-Regular\n",
            "May 21, 2021 7:31:04 AM org.apache.pdfbox.pdmodel.font.PDSimpleFont toUnicode\n",
            "WARNING: No Unicode mapping for gid00001 (1) in font MCBCCM+SourceSansRoman.613wght\n",
            "May 21, 2021 7:31:04 AM org.apache.pdfbox.pdmodel.font.PDSimpleFont toUnicode\n",
            "WARNING: No Unicode mapping for gid00048 (1) in font MCBCCO+SourceSansRoman-Bold\n",
            "May 21, 2021 7:31:04 AM org.apache.pdfbox.pdmodel.font.PDSimpleFont toUnicode\n",
            "WARNING: No Unicode mapping for gid00043 (2) in font MCBCCO+SourceSansRoman-Bold\n",
            "May 21, 2021 7:31:04 AM org.apache.pdfbox.pdmodel.font.PDSimpleFont toUnicode\n",
            "WARNING: No Unicode mapping for gid00031 (3) in font MCBCCO+SourceSansRoman-Bold\n",
            "May 21, 2021 7:31:04 AM org.apache.pdfbox.pdmodel.font.PDSimpleFont toUnicode\n",
            "WARNING: No Unicode mapping for gid00028 (4) in font MCBCCO+SourceSansRoman-Bold\n",
            "May 21, 2021 7:31:04 AM org.apache.pdfbox.pdmodel.font.PDSimpleFont toUnicode\n",
            "WARNING: No Unicode mapping for gid00047 (5) in font MCBCCO+SourceSansRoman-Bold\n",
            "May 21, 2021 7:31:04 AM org.apache.pdfbox.pdmodel.font.PDSimpleFont toUnicode\n",
            "WARNING: No Unicode mapping for gid00032 (6) in font MCBCCO+SourceSansRoman-Bold\n",
            "May 21, 2021 7:31:04 AM org.apache.pdfbox.pdmodel.font.PDSimpleFont toUnicode\n",
            "WARNING: No Unicode mapping for gid00046 (7) in font MCBCCO+SourceSansRoman-Bold\n",
            "May 21, 2021 7:31:07 AM org.apache.pdfbox.pdmodel.font.PDSimpleFont toUnicode\n",
            "WARNING: No Unicode mapping for gid00030 (1) in font MCBCCI+SourceSansRoman-Regular\n",
            "May 21, 2021 7:31:07 AM org.apache.pdfbox.pdmodel.font.PDSimpleFont toUnicode\n",
            "WARNING: No Unicode mapping for gid00035 (2) in font MCBCCI+SourceSansRoman-Regular\n",
            "May 21, 2021 7:31:07 AM org.apache.pdfbox.pdmodel.font.PDSimpleFont toUnicode\n",
            "WARNING: No Unicode mapping for gid00032 (3) in font MCBCCI+SourceSansRoman-Regular\n",
            "May 21, 2021 7:31:07 AM org.apache.pdfbox.pdmodel.font.PDSimpleFont toUnicode\n",
            "WARNING: No Unicode mapping for gid00038 (4) in font MCBCCI+SourceSansRoman-Regular\n",
            "May 21, 2021 7:31:07 AM org.apache.pdfbox.pdmodel.font.PDSimpleFont toUnicode\n",
            "WARNING: No Unicode mapping for gid00001 (5) in font MCBCCI+SourceSansRoman-Regular\n",
            "May 21, 2021 7:31:07 AM org.apache.pdfbox.pdmodel.font.PDSimpleFont toUnicode\n",
            "WARNING: No Unicode mapping for gid00033 (6) in font MCBCCI+SourceSansRoman-Regular\n",
            "May 21, 2021 7:31:07 AM org.apache.pdfbox.pdmodel.font.PDSimpleFont toUnicode\n",
            "WARNING: No Unicode mapping for gid00042 (7) in font MCBCCI+SourceSansRoman-Regular\n",
            "May 21, 2021 7:31:07 AM org.apache.pdfbox.pdmodel.font.PDSimpleFont toUnicode\n",
            "WARNING: No Unicode mapping for gid00045 (8) in font MCBCCI+SourceSansRoman-Regular\n",
            "May 21, 2021 7:31:07 AM org.apache.pdfbox.pdmodel.font.PDSimpleFont toUnicode\n",
            "WARNING: No Unicode mapping for gid00001 (1) in font MCBCCM+SourceSansRoman.613wght\n",
            "May 21, 2021 7:31:07 AM org.apache.pdfbox.pdmodel.font.PDSimpleFont toUnicode\n",
            "WARNING: No Unicode mapping for gid00048 (1) in font MCBCCO+SourceSansRoman-Bold\n",
            "May 21, 2021 7:31:07 AM org.apache.pdfbox.pdmodel.font.PDSimpleFont toUnicode\n",
            "WARNING: No Unicode mapping for gid00043 (2) in font MCBCCO+SourceSansRoman-Bold\n",
            "May 21, 2021 7:31:07 AM org.apache.pdfbox.pdmodel.font.PDSimpleFont toUnicode\n",
            "WARNING: No Unicode mapping for gid00031 (3) in font MCBCCO+SourceSansRoman-Bold\n",
            "May 21, 2021 7:31:07 AM org.apache.pdfbox.pdmodel.font.PDSimpleFont toUnicode\n",
            "WARNING: No Unicode mapping for gid00028 (4) in font MCBCCO+SourceSansRoman-Bold\n",
            "May 21, 2021 7:31:07 AM org.apache.pdfbox.pdmodel.font.PDSimpleFont toUnicode\n",
            "WARNING: No Unicode mapping for gid00047 (5) in font MCBCCO+SourceSansRoman-Bold\n",
            "May 21, 2021 7:31:07 AM org.apache.pdfbox.pdmodel.font.PDSimpleFont toUnicode\n",
            "WARNING: No Unicode mapping for gid00032 (6) in font MCBCCO+SourceSansRoman-Bold\n",
            "May 21, 2021 7:31:07 AM org.apache.pdfbox.pdmodel.font.PDSimpleFont toUnicode\n",
            "WARNING: No Unicode mapping for gid00046 (7) in font MCBCCO+SourceSansRoman-Bold\n",
            "May 21, 2021 7:31:08 AM org.apache.pdfbox.pdmodel.font.PDSimpleFont toUnicode\n",
            "WARNING: No Unicode mapping for circlemultiplytext (78) in font RCFCDX+CMEX10\n",
            "May 21, 2021 7:31:12 AM org.apache.pdfbox.pdmodel.font.PDSimpleFont toUnicode\n",
            "WARNING: No Unicode mapping for circlecopyrt (13) in font WEIJUK+CMSY9\n",
            "\n"
          ],
          "name": "stderr"
        }
      ]
    },
    {
      "cell_type": "markdown",
      "metadata": {
        "id": "wyMea_AaXzz5"
      },
      "source": [
        "# New section"
      ]
    }
  ]
}